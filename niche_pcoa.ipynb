{
 "cells": [
  {
   "cell_type": "code",
   "execution_count": 1,
   "id": "8f4c6d50-90f8-43e1-8905-b9971ab3f5ee",
   "metadata": {},
   "outputs": [],
   "source": [
    "from collections import defaultdict\n",
    "import pandas as pd\n",
    "import glob\n",
    "\n",
    "class KrakenEntry:\n",
    "    def __init__(self, row=None, domain=None, hierarchy=[]):\n",
    "        self.taxon_id = 0\n",
    "        self.name = \"unclassified\"\n",
    "        self.rank = \"U\"\n",
    "        self.depth = 0\n",
    "        self.count = 0 # inclusive count\n",
    "        self.ucount = 0 # unique_count\n",
    "        self.domain = domain\n",
    "        self.parent = None\n",
    "        self.children = set()\n",
    "        self.sibling_rank = 0\n",
    "        self.hierarchy = hierarchy\n",
    "        if row is not None:\n",
    "            self.add_row(row)\n",
    "    \n",
    "    def print(self):\n",
    "        print(f\"{self.taxon_id},{self.name},{self.rank},{self.depth},{self.count},{self.ucount},{self.domain},{self.parent},{self.children},{self.sibling_rank},{self.hierarchy}\")\n",
    "    \n",
    "    def parse_depth(self, name):\n",
    "        parse_name = name.split(\" \")\n",
    "        depth = 0\n",
    "        for i in parse_name:\n",
    "            if i != \"\":\n",
    "                break\n",
    "            depth += 1\n",
    "        depth = int(depth / 2)\n",
    "        return depth\n",
    "        \n",
    "    def add_row(self, row):\n",
    "        self.taxon_id = row[\"Taxonomy ID\"]\n",
    "        self.name = row[\"Scientific Name\"].strip()\n",
    "        self.depth = self.parse_depth(row[\"Scientific Name\"])\n",
    "        self.rank = row[\"Rank\"]\n",
    "        self.count = row[\"Clades\"] # inclusive count\n",
    "        self.ucount = row[\"Taxonomies\"] # unique_count\n",
    "        self.hierarchy = self.hierarchy[:self.depth]\n",
    "\n",
    "    def add_parent(self, parent):\n",
    "        self.parent = parent\n",
    "        \n",
    "    def add_child(self, child):\n",
    "        self.children.add(child)\n",
    "\n",
    "    def set_sibling_rank(self, rank):\n",
    "        self.sibling_rank = rank\n",
    "      \n",
    "class KrakenReport:\n",
    "    def __init__(self, file_name=None):\n",
    "        self.entries = defaultdict(KrakenEntry)\n",
    "        self.total = 0\n",
    "        self.unclassified = 0\n",
    "        self.classified = 0\n",
    "        self.domains = defaultdict(int)\n",
    "        if file_name:\n",
    "            self.load_df(file_name)\n",
    "            self.unclassified = self.entries[0].count\n",
    "            self.classified = self.entries[1].count\n",
    "            self.total = self.classified + self.unclassified\n",
    "            \n",
    "    def add_parent_child(self, parent_id, child_id):\n",
    "        self.entries[child_id].add_parent(parent_id)\n",
    "        self.entries[parent_id].add_child(child_id)\n",
    "        \n",
    "    def set_sibling_ranks(self):\n",
    "        for entry_id, entry in self.entries.items():\n",
    "            if entry.sibling_rank > 0 or entry.parent in [None, 1, 131567]:\n",
    "                continue\n",
    "            if entry.rank in [\"D\", \"R\", \"R1\"]:\n",
    "                entry.set_sibling_rank(1)\n",
    "            elif len(self.entries[entry.parent].children) == 1:\n",
    "                entry.set_sibling_rank(1)\n",
    "            else:\n",
    "                sibling_dict = {i:self.entries[i].count for i in self.entries[entry.parent].children}\n",
    "                sorted_counts = sorted(sibling_dict.values(), reverse=True)\n",
    "                for i,c in sibling_dict.items():\n",
    "                    rank = sorted_counts.index(c) + 1\n",
    "                    self.entries[i].set_sibling_rank(rank)\n",
    "                    \n",
    "    def check_sibling_ranks(self):\n",
    "        for entry_id in self.entries:\n",
    "            if self.entries[entry_id].sibling_rank == 0:\n",
    "                print(entry_id)\n",
    "                     \n",
    "    def load_df(self, file_name):\n",
    "        df = pd.read_csv(file_name, sep=\"\\t\", skipinitialspace = False)\n",
    "        hierarchy = []\n",
    "        domain = None\n",
    "        for i,row in df.iterrows():\n",
    "            try:\n",
    "                if row[\"Rank\"] == \"D\":\n",
    "                    domain = row[\"Scientific Name\"].strip()\n",
    "                    self.domains[domain] = row[\"Taxonomy ID\"]\n",
    "                entry = KrakenEntry(row=row, domain=domain, hierarchy=hierarchy)\n",
    "\n",
    "            except:\n",
    "                print(f\"Found badly formatted row:\\n{row}\")\n",
    "                print(f\"Quitting load of {file_name}\")\n",
    "                break\n",
    "            \n",
    "            self.entries[entry.taxon_id] = entry\n",
    "            hierarchy = entry.hierarchy.copy()\n",
    "            if len(hierarchy) > 0:\n",
    "                self.add_parent_child(hierarchy[-1], entry.taxon_id)\n",
    "            if entry.taxon_id > 0:\n",
    "                hierarchy.append(entry.taxon_id)\n",
    "        self.set_sibling_ranks()\n",
    "        #self.check_sibling_ranks()\n",
    "\n",
    "    def get_domains(self):\n",
    "        domains = []\n",
    "        for entry_id, entry in self.entries.items():\n",
    "            if entry.rank == \"D\":\n",
    "                domains.append(entry)\n",
    "                entry.print()\n",
    "        return domains\n",
    "\n",
    "    def get_percentage(self, taxon_id, domain=None):\n",
    "        \n",
    "        if domain and self.entries[taxon_id].domain!=domain:\n",
    "            return 0.0\n",
    "            \n",
    "        denominator = self.classified\n",
    "        if domain:\n",
    "            denominator = self.entries[self.domains[domain]].count\n",
    "            \n",
    "        count=self.entries[taxon_id].count\n",
    "        return float(count)/denominator\n",
    "\n",
    "    def to_source_target_df(self, max_rank=None, domain=None, trace_ids=[]):\n",
    "        records = []\n",
    "        ignore = set()\n",
    "        skip = set()\n",
    "        for entry_id, entry in self.entries.items():\n",
    "            \n",
    "            # we don't want the connections to cellular organisms, root etc\n",
    "            if entry.sibling_rank == 0:\n",
    "                continue\n",
    "                \n",
    "            # filter by domain where required\n",
    "            if domain and entry.domain!=domain:\n",
    "                continue\n",
    "                \n",
    "            # filter by rank when specified\n",
    "            if max_rank:\n",
    "                if entry.sibling_rank > max_rank:\n",
    "                    ignore.add(entry_id)\n",
    "                    if entry_id in trace_ids:\n",
    "                        print(entry_id, 1)\n",
    "                    continue\n",
    "                elif entry.parent in ignore:\n",
    "                    ignore.add(entry_id)\n",
    "                    if entry_id in trace_ids:\n",
    "                        print(entry_id, 2)\n",
    "                    continue\n",
    "\n",
    "            # filter if an intermediate rank\n",
    "            if entry.rank not in [\"K\",\"D\",\"D1\",\"D2\",\"P\",\"C\",\"O\",\"F\",\"G\",\"S\", \"S1\", \"S2\"]:\n",
    "                skip.add(entry_id)\n",
    "                if entry_id in trace_ids:\n",
    "                    print(entry_id, 3)\n",
    "                continue\n",
    "            \n",
    "            index = 1\n",
    "            while index < len(entry.hierarchy) and entry.hierarchy[-index] in skip:\n",
    "                index += 1\n",
    "            source_id = entry.hierarchy[-index]\n",
    "            if entry_id in trace_ids:\n",
    "                print(entry_id, 4, source_id)\n",
    "            records.append({\"source\":self.entries[source_id].name, \"target\": entry.name, \"value\":entry.count, \"percentage\":self.get_percentage(entry_id, domain=domain)})\n",
    "\n",
    "        all_links = pd.DataFrame.from_records(records)\n",
    "        all_links.to_csv(\"source_target.csv\")\n",
    "\n",
    "        print(len(records), len(ignore), len(skip))\n",
    "\n",
    "        return records\n",
    "\n",
    "    def to_df(self, sample_id=\"sample_id\", ranks=[]):\n",
    "        if not ranks or len(ranks) == 0:\n",
    "            taxon_ids =  [e for e in self.entries.keys()]\n",
    "        else:\n",
    "            taxon_ids =  [e for e in self.entries.keys() if self.entries[e].rank in ranks]\n",
    "        return pd.DataFrame({sample_id:[self.entries[e].count for e in taxon_ids]}, index=taxon_ids)\n",
    "        "
   ]
  },
  {
   "cell_type": "code",
   "execution_count": 233,
   "id": "39eda33f-b333-457f-9008-857f4505a36c",
   "metadata": {
    "scrolled": true
   },
   "outputs": [
    {
     "data": {
      "text/html": [
       "\n",
       "        <iframe\n",
       "            width=\"100%\"\n",
       "            height=\"650\"\n",
       "            src=\"http://127.0.0.1:8050/\"\n",
       "            frameborder=\"0\"\n",
       "            allowfullscreen\n",
       "            \n",
       "        ></iframe>\n",
       "        "
      ],
      "text/plain": [
       "<IPython.lib.display.IFrame at 0x109c0abb0>"
      ]
     },
     "metadata": {},
     "output_type": "display_data"
    }
   ],
   "source": [
    "from dash import Dash, dcc, html, Input, Output\n",
    "import plotly.graph_objects as go\n",
    "\n",
    "app = Dash(__name__)\n",
    "\n",
    "app.layout = html.Div([\n",
    "    dcc.Graph(id=\"graph\"),\n",
    "    dcc.Slider(id=\"slider\", min=0, max=100, step=0.1, value=1,\n",
    "    marks={\n",
    "        0: \"0\",\n",
    "        1: \"1\",\n",
    "        5: \"5\",\n",
    "        10: \"10\",\n",
    "        100: \"100\"\n",
    "    }),\n",
    "    html.Div(id='updatemode-output-container', style={'marginTop': 20})\n",
    "])\n",
    "\n",
    "@app.callback(Output('updatemode-output-container', 'children'),\n",
    "              Input('slider', 'value'))\n",
    "def display_value(value):\n",
    "    return f\"Minimum percentage: {value}\"\n",
    "\n",
    "@app.callback(\n",
    "    Output(\"graph\", \"figure\"), \n",
    "    Input(\"slider\", \"value\"))\n",
    "def update_sankey(min_percent):\n",
    "    all_links = pd.read_csv(\"source_target.csv\")\n",
    "        \n",
    "    #for using with 'label' parameter in plotly \n",
    "    #https://sparkbyexamples.com/pandas/pandas-find-unique-values-from-columns\n",
    "    unique_source_target = list(pd.unique(all_links[['source', 'target']].values.ravel('K')))\n",
    "        \n",
    "    #for assigning unique number to each source and target\n",
    "    mapping_dict = {k: v for v, k in enumerate(unique_source_target)}\n",
    "        \n",
    "    #mapping of full data\n",
    "    all_links['source'] = all_links['source'].map(mapping_dict)\n",
    "    all_links['target'] = all_links['target'].map(mapping_dict)\n",
    "        \n",
    "    #converting full dataframe as list for using with in plotly\n",
    "    all_links = all_links[all_links[\"percentage\"] > float(min_percent)/100]\n",
    "    links_dict = all_links.to_dict(orient='list')\n",
    "        \n",
    "    #Sankey Diagram Code \n",
    "    fig = go.Figure(data=[go.Sankey(\n",
    "        node = dict(\n",
    "          pad = 15,\n",
    "          thickness = 20,\n",
    "          line = dict(color = \"black\", width = 0.5),\n",
    "          label = unique_source_target,\n",
    "              \n",
    "        ),\n",
    "        link = dict(\n",
    "          source = links_dict[\"source\"],\n",
    "          target = links_dict[\"target\"],\n",
    "          value = links_dict[\"value\"],\n",
    "        ))],\n",
    "        layout_title_text=\"Kraken Report Sankey Diagram\"\n",
    "    )\n",
    "    return fig\n",
    "\n",
    "app.run_server(debug=True)"
   ]
  },
  {
   "cell_type": "code",
   "execution_count": 224,
   "id": "ec934245-a949-42b9-8619-88cb7724b77d",
   "metadata": {},
   "outputs": [],
   "source": [
    "from skbio.stats.composition import clr\n",
    "\n",
    "class KrakenCombined:\n",
    "    def __init__(self, list_file_names=[], metadata=None, counts=None, taxa=None, ranks=[]):\n",
    "        self.metadata = pd.DataFrame(columns=[\"group\",\"pass\",\"classified\",\"unclassified\",\"total\"])\n",
    "        if metadata:\n",
    "            self.metadata = pd.read_csv(metadata, index_col=0)\n",
    "        self.counts = pd.DataFrame()\n",
    "        if counts:\n",
    "            self.counts = pd.read_csv(counts, index_col=0)\n",
    "        self.taxa = pd.DataFrame()\n",
    "        if taxa:\n",
    "            self.taxa = pd.read_csv(taxa, index_col=0)\n",
    "        for file_name in list_file_names:\n",
    "            k = KrakenReport(file_name)\n",
    "            sample_id = file_name.split(\"/\")[-1].split(\".\")[0]\n",
    "            self.add_kraken_report_to_metadata(k, sample_id)\n",
    "            self.add_kraken_report_to_counts(k, sample_id, ranks=ranks)\n",
    "            \n",
    "    def add_kraken_report_to_metadata(self, kraken_report, sample_id):\n",
    "        update = {\"group\": \"default\", \"pass\":True, \"classified\":kraken_report.classified, \"unclassified\":kraken_report.unclassified, \"total\":kraken_report.total}\n",
    "        self.metadata.loc[sample_id] = update\n",
    "\n",
    "    def add_kraken_report_to_counts(self, kraken_report, sample_id, ranks=[]):\n",
    "        self.counts = self.counts.join(kraken_report.to_df(sample_id, ranks=ranks), how='outer')\n",
    "        self.counts.fillna(0, inplace=True)\n",
    "        self.counts = self.counts.astype('int64')\n",
    "\n",
    "    def load_metadata(self, metadata_csv):\n",
    "        with open(metadata_csv, \"r\") as f:\n",
    "            for line in f:\n",
    "                sample_id, group = line.strip().split(\",\")\n",
    "                self.metadata.loc[sample_id, \"group\"] = group\n",
    "\n",
    "    def normalize_counts(self, by=\"total\"):\n",
    "        self.normed_counts = self.counts\n",
    "        for sample_id in self.normed_counts.columns:\n",
    "            self.normed_counts[sample_id] = self.normed_counts[sample_id]/self.metadata.loc[sample_id, \"total\"]\n",
    "        if by == \"total\":\n",
    "            return\n",
    "        x = self.normed_counts.T\n",
    "        y = clr(x) \n",
    "\n",
    "    def filter_samples(self, min_count=10):\n",
    "        self.metadata[\"pass\"] = self.metadata[\"pass\"].fillna(False)\n",
    "        num_taxa_in_samples = self.counts.astype(bool).sum(axis=0)\n",
    "        for i,c in num_taxa_in_samples.items():\n",
    "            self.metadata.loc[i,\"pass\"] = (c > min_count)\n",
    "\n",
    "    def get_taxa_info(self):\n",
    "        self.taxa = self.counts.astype(bool).sum(axis=1).to_frame(\"count_samples\")\n",
    "        self.taxa[\"percent_samples\"] = self.taxa[\"count_samples\"]/self.counts.shape[1]*100\n",
    "        self.taxa[\"min\"] = self.counts.min(axis=1)\n",
    "        self.taxa[\"max\"] = self.counts.max(axis=1)\n",
    "        self.taxa[\"mean\"] = self.counts.mean(axis=1)\n",
    "        self.taxa[\"median\"] = self.counts.median(axis=1)\n",
    "        self.taxa[\"count_reads\"] = self.counts.sum(axis=1)\n",
    "        overall_total = self.counts.sum().sum()\n",
    "        self.taxa[\"percent_reads\"] = self.taxa[\"count_reads\"]/overall_total*100\n",
    "\n",
    "    def filter_taxa(self, min_percent_of_samples=5, min_number_of_samples=2, min_percent_of_reads = 0.01):\n",
    "        self.get_taxa_info()\n",
    "        pass_percent = self.taxa[\"percent_samples\"] >= min_percent_of_samples\n",
    "        pass_count = self.taxa[\"count_samples\"] >= min_number_of_samples\n",
    "        pass_percent_taxa = self.taxa[\"percent_reads\"] >= min_percent_of_reads\n",
    "        self.taxa[\"pass\"] = pass_percent & pass_count & pass_percent_taxa\n",
    "\n",
    "    def get_taxa(self):\n",
    "        return self.taxa[self.taxa[\"pass\"]]\n",
    "\n",
    "    def get_samples(self):\n",
    "        return self.metadata[self.metadata[\"pass\"]]\n",
    "\n",
    "    def save(self, prefix):\n",
    "        metadata.to_csv(f\"{prefix}.metadata.csv\")\n",
    "        counts.to_csv(f\"{prefix}.counts.csv\")\n",
    "        taxa.to_csv(f\"{prefix}.taxa.csv\")"
   ]
  },
  {
   "cell_type": "code",
   "execution_count": 225,
   "id": "404c6a22-7285-401d-bd30-6c0926add019",
   "metadata": {},
   "outputs": [
    {
     "ename": "NameError",
     "evalue": "name 'metadata' is not defined",
     "output_type": "error",
     "traceback": [
      "\u001b[0;31m---------------------------------------------------------------------------\u001b[0m",
      "\u001b[0;31mNameError\u001b[0m                                 Traceback (most recent call last)",
      "Cell \u001b[0;32mIn[225], line 3\u001b[0m\n\u001b[1;32m      1\u001b[0m list_kraken_reports \u001b[38;5;241m=\u001b[39m glob\u001b[38;5;241m.\u001b[39mglob(\u001b[38;5;124m\"\u001b[39m\u001b[38;5;124mdata/*.PlusPF.kraken_report.txt\u001b[39m\u001b[38;5;124m\"\u001b[39m)\n\u001b[1;32m      2\u001b[0m kc \u001b[38;5;241m=\u001b[39m KrakenCombined(list_kraken_reports, ranks\u001b[38;5;241m=\u001b[39m[\u001b[38;5;124m\"\u001b[39m\u001b[38;5;124mG\u001b[39m\u001b[38;5;124m\"\u001b[39m])\n\u001b[0;32m----> 3\u001b[0m \u001b[43mkc\u001b[49m\u001b[38;5;241;43m.\u001b[39;49m\u001b[43msave\u001b[49m\u001b[43m(\u001b[49m\u001b[38;5;124;43m\"\u001b[39;49m\u001b[38;5;124;43mdata/test\u001b[39;49m\u001b[38;5;124;43m\"\u001b[39;49m\u001b[43m)\u001b[49m\n",
      "Cell \u001b[0;32mIn[224], line 75\u001b[0m, in \u001b[0;36mKrakenCombined.save\u001b[0;34m(self, prefix)\u001b[0m\n\u001b[1;32m     74\u001b[0m \u001b[38;5;28;01mdef\u001b[39;00m \u001b[38;5;21msave\u001b[39m(\u001b[38;5;28mself\u001b[39m, prefix):\n\u001b[0;32m---> 75\u001b[0m     \u001b[43mmetadata\u001b[49m\u001b[38;5;241m.\u001b[39mto_csv(\u001b[38;5;124mf\u001b[39m\u001b[38;5;124m\"\u001b[39m\u001b[38;5;132;01m{\u001b[39;00mprefix\u001b[38;5;132;01m}\u001b[39;00m\u001b[38;5;124m/metadata.csv\u001b[39m\u001b[38;5;124m\"\u001b[39m)\n\u001b[1;32m     76\u001b[0m     counts\u001b[38;5;241m.\u001b[39mto_csv(\u001b[38;5;124mf\u001b[39m\u001b[38;5;124m\"\u001b[39m\u001b[38;5;132;01m{\u001b[39;00mprefix\u001b[38;5;132;01m}\u001b[39;00m\u001b[38;5;124m/counts.csv\u001b[39m\u001b[38;5;124m\"\u001b[39m)\n\u001b[1;32m     77\u001b[0m     taxa\u001b[38;5;241m.\u001b[39mto_csv(\u001b[38;5;124mf\u001b[39m\u001b[38;5;124m\"\u001b[39m\u001b[38;5;132;01m{\u001b[39;00mprefix\u001b[38;5;132;01m}\u001b[39;00m\u001b[38;5;124m/taxa.csv\u001b[39m\u001b[38;5;124m\"\u001b[39m)\n",
      "\u001b[0;31mNameError\u001b[0m: name 'metadata' is not defined"
     ]
    }
   ],
   "source": [
    "list_kraken_reports = glob.glob(\"data/*.PlusPF.kraken_report.txt\")\n",
    "kc = KrakenCombined(list_kraken_reports, ranks=[\"G\"])\n",
    "kc.save(\"data/test\")"
   ]
  },
  {
   "cell_type": "code",
   "execution_count": null,
   "id": "2ec5546e-0606-41cd-88b3-e5557d5cec5e",
   "metadata": {},
   "outputs": [],
   "source": [
    "g = pd.read_csv(\"data/combined.csv\", header=None, names=[\"sample_id\",\"group\"], index_col=0)\n",
    "kc.metadata.update(g)\n",
    "kc.filter_taxa()\n",
    "kc.filter_samples()\n",
    "kc.save(\"data/test2\")"
   ]
  },
  {
   "cell_type": "code",
   "execution_count": 220,
   "id": "914e1f92-afff-4d28-9d7c-2b6c62f873ac",
   "metadata": {},
   "outputs": [],
   "source": [
    "from skbio.stats.composition import clr\n",
    "\n",
    "normed_counts = kc.counts\n",
    "for sample_id in normed_counts.columns:\n",
    "    normed_counts[sample_id] = (normed_counts[sample_id]+1)/kc.metadata.loc[sample_id, \"total\"]\n",
    "x = normed_counts.T\n",
    "y = clr(x).T"
   ]
  },
  {
   "cell_type": "code",
   "execution_count": 223,
   "id": "b4829f41-bee0-4156-97a5-9abbd63cbb5d",
   "metadata": {},
   "outputs": [
    {
     "ename": "IndexError",
     "evalue": "only integers, slices (`:`), ellipsis (`...`), numpy.newaxis (`None`) and integer or boolean arrays are valid indices",
     "output_type": "error",
     "traceback": [
      "\u001b[0;31m---------------------------------------------------------------------------\u001b[0m",
      "\u001b[0;31mIndexError\u001b[0m                                Traceback (most recent call last)",
      "Cell \u001b[0;32mIn[223], line 1\u001b[0m\n\u001b[0;32m----> 1\u001b[0m \u001b[43mnormed_counts\u001b[49m\u001b[38;5;241;43m.\u001b[39;49m\u001b[43mvalues\u001b[49m\u001b[43m[\u001b[49m\u001b[43mnormed_counts\u001b[49m\u001b[38;5;241;43m.\u001b[39;49m\u001b[43mindex\u001b[49m\u001b[43m,\u001b[49m\u001b[43m \u001b[49m\u001b[43mnormed_counts\u001b[49m\u001b[38;5;241;43m.\u001b[39;49m\u001b[43mcolumns\u001b[49m\u001b[43m]\u001b[49m \u001b[38;5;241m=\u001b[39m y\n",
      "\u001b[0;31mIndexError\u001b[0m: only integers, slices (`:`), ellipsis (`...`), numpy.newaxis (`None`) and integer or boolean arrays are valid indices"
     ]
    }
   ],
   "source": [
    "normed_counts.values[normed_counts.index, normed_counts.columns] = y"
   ]
  },
  {
   "cell_type": "code",
   "execution_count": 210,
   "id": "4aae0b89-a829-4300-a40f-df6c46d75f50",
   "metadata": {},
   "outputs": [
    {
     "ename": "NameError",
     "evalue": "name 'by' is not defined",
     "output_type": "error",
     "traceback": [
      "\u001b[0;31m---------------------------------------------------------------------------\u001b[0m",
      "\u001b[0;31mNameError\u001b[0m                                 Traceback (most recent call last)",
      "Cell \u001b[0;32mIn[210], line 1\u001b[0m\n\u001b[0;32m----> 1\u001b[0m \u001b[43mby\u001b[49m\n",
      "\u001b[0;31mNameError\u001b[0m: name 'by' is not defined"
     ]
    }
   ],
   "source": [
    "by"
   ]
  },
  {
   "cell_type": "code",
   "execution_count": 198,
   "id": "ff3b72de-dec9-465f-9627-1d1ed95a8887",
   "metadata": {},
   "outputs": [
    {
     "name": "stdout",
     "output_type": "stream",
     "text": [
      "\n",
      "Note: you may need to restart the kernel to use updated packages.\n"
     ]
    }
   ],
   "source": [
    "mamba install --yes --quiet -c conda-forge scikit-bio"
   ]
  },
  {
   "cell_type": "code",
   "execution_count": 191,
   "id": "2235f7f6-a3d4-4214-bb49-c974763bfa92",
   "metadata": {},
   "outputs": [
    {
     "data": {
      "text/html": [
       "<div>\n",
       "<style scoped>\n",
       "    .dataframe tbody tr th:only-of-type {\n",
       "        vertical-align: middle;\n",
       "    }\n",
       "\n",
       "    .dataframe tbody tr th {\n",
       "        vertical-align: top;\n",
       "    }\n",
       "\n",
       "    .dataframe thead th {\n",
       "        text-align: right;\n",
       "    }\n",
       "</style>\n",
       "<table border=\"1\" class=\"dataframe\">\n",
       "  <thead>\n",
       "    <tr style=\"text-align: right;\">\n",
       "      <th></th>\n",
       "      <th>count_samples</th>\n",
       "      <th>percent_samples</th>\n",
       "      <th>min</th>\n",
       "      <th>max</th>\n",
       "      <th>mean</th>\n",
       "      <th>median</th>\n",
       "      <th>count_reads</th>\n",
       "      <th>percent_reads</th>\n",
       "      <th>pass</th>\n",
       "    </tr>\n",
       "  </thead>\n",
       "  <tbody>\n",
       "    <tr>\n",
       "      <th>157</th>\n",
       "      <td>10</td>\n",
       "      <td>100.0</td>\n",
       "      <td>769</td>\n",
       "      <td>5764</td>\n",
       "      <td>3254.8</td>\n",
       "      <td>3680.0</td>\n",
       "      <td>32548</td>\n",
       "      <td>0.021096</td>\n",
       "      <td>True</td>\n",
       "    </tr>\n",
       "    <tr>\n",
       "      <th>194</th>\n",
       "      <td>10</td>\n",
       "      <td>100.0</td>\n",
       "      <td>455</td>\n",
       "      <td>9284</td>\n",
       "      <td>2497.3</td>\n",
       "      <td>1285.0</td>\n",
       "      <td>24973</td>\n",
       "      <td>0.016186</td>\n",
       "      <td>True</td>\n",
       "    </tr>\n",
       "    <tr>\n",
       "      <th>237</th>\n",
       "      <td>10</td>\n",
       "      <td>100.0</td>\n",
       "      <td>7</td>\n",
       "      <td>17189</td>\n",
       "      <td>2862.8</td>\n",
       "      <td>656.5</td>\n",
       "      <td>28628</td>\n",
       "      <td>0.018555</td>\n",
       "      <td>True</td>\n",
       "    </tr>\n",
       "    <tr>\n",
       "      <th>286</th>\n",
       "      <td>10</td>\n",
       "      <td>100.0</td>\n",
       "      <td>22</td>\n",
       "      <td>16047</td>\n",
       "      <td>4783.3</td>\n",
       "      <td>1966.5</td>\n",
       "      <td>47833</td>\n",
       "      <td>0.031002</td>\n",
       "      <td>True</td>\n",
       "    </tr>\n",
       "    <tr>\n",
       "      <th>482</th>\n",
       "      <td>10</td>\n",
       "      <td>100.0</td>\n",
       "      <td>556</td>\n",
       "      <td>588121</td>\n",
       "      <td>61337.4</td>\n",
       "      <td>1970.5</td>\n",
       "      <td>613374</td>\n",
       "      <td>0.397551</td>\n",
       "      <td>True</td>\n",
       "    </tr>\n",
       "    <tr>\n",
       "      <th>...</th>\n",
       "      <td>...</td>\n",
       "      <td>...</td>\n",
       "      <td>...</td>\n",
       "      <td>...</td>\n",
       "      <td>...</td>\n",
       "      <td>...</td>\n",
       "      <td>...</td>\n",
       "      <td>...</td>\n",
       "      <td>...</td>\n",
       "    </tr>\n",
       "    <tr>\n",
       "      <th>2948785</th>\n",
       "      <td>5</td>\n",
       "      <td>50.0</td>\n",
       "      <td>0</td>\n",
       "      <td>18307</td>\n",
       "      <td>3236.9</td>\n",
       "      <td>5.0</td>\n",
       "      <td>32369</td>\n",
       "      <td>0.020980</td>\n",
       "      <td>True</td>\n",
       "    </tr>\n",
       "    <tr>\n",
       "      <th>3025755</th>\n",
       "      <td>10</td>\n",
       "      <td>100.0</td>\n",
       "      <td>1</td>\n",
       "      <td>58011</td>\n",
       "      <td>15286.7</td>\n",
       "      <td>7592.5</td>\n",
       "      <td>152867</td>\n",
       "      <td>0.099079</td>\n",
       "      <td>True</td>\n",
       "    </tr>\n",
       "    <tr>\n",
       "      <th>3046369</th>\n",
       "      <td>6</td>\n",
       "      <td>60.0</td>\n",
       "      <td>0</td>\n",
       "      <td>9499</td>\n",
       "      <td>2784.2</td>\n",
       "      <td>609.5</td>\n",
       "      <td>27842</td>\n",
       "      <td>0.018045</td>\n",
       "      <td>True</td>\n",
       "    </tr>\n",
       "    <tr>\n",
       "      <th>3047433</th>\n",
       "      <td>6</td>\n",
       "      <td>60.0</td>\n",
       "      <td>0</td>\n",
       "      <td>7473</td>\n",
       "      <td>1941.6</td>\n",
       "      <td>559.0</td>\n",
       "      <td>19416</td>\n",
       "      <td>0.012584</td>\n",
       "      <td>True</td>\n",
       "    </tr>\n",
       "    <tr>\n",
       "      <th>3076670</th>\n",
       "      <td>5</td>\n",
       "      <td>50.0</td>\n",
       "      <td>0</td>\n",
       "      <td>8462</td>\n",
       "      <td>2521.9</td>\n",
       "      <td>1206.0</td>\n",
       "      <td>25219</td>\n",
       "      <td>0.016345</td>\n",
       "      <td>True</td>\n",
       "    </tr>\n",
       "  </tbody>\n",
       "</table>\n",
       "<p>114 rows × 9 columns</p>\n",
       "</div>"
      ],
      "text/plain": [
       "         count_samples  percent_samples  min     max     mean  median  \\\n",
       "157                 10            100.0  769    5764   3254.8  3680.0   \n",
       "194                 10            100.0  455    9284   2497.3  1285.0   \n",
       "237                 10            100.0    7   17189   2862.8   656.5   \n",
       "286                 10            100.0   22   16047   4783.3  1966.5   \n",
       "482                 10            100.0  556  588121  61337.4  1970.5   \n",
       "...                ...              ...  ...     ...      ...     ...   \n",
       "2948785              5             50.0    0   18307   3236.9     5.0   \n",
       "3025755             10            100.0    1   58011  15286.7  7592.5   \n",
       "3046369              6             60.0    0    9499   2784.2   609.5   \n",
       "3047433              6             60.0    0    7473   1941.6   559.0   \n",
       "3076670              5             50.0    0    8462   2521.9  1206.0   \n",
       "\n",
       "         count_reads  percent_reads  pass  \n",
       "157            32548       0.021096  True  \n",
       "194            24973       0.016186  True  \n",
       "237            28628       0.018555  True  \n",
       "286            47833       0.031002  True  \n",
       "482           613374       0.397551  True  \n",
       "...              ...            ...   ...  \n",
       "2948785        32369       0.020980  True  \n",
       "3025755       152867       0.099079  True  \n",
       "3046369        27842       0.018045  True  \n",
       "3047433        19416       0.012584  True  \n",
       "3076670        25219       0.016345  True  \n",
       "\n",
       "[114 rows x 9 columns]"
      ]
     },
     "execution_count": 191,
     "metadata": {},
     "output_type": "execute_result"
    }
   ],
   "source": [
    "kc.get_taxa()"
   ]
  },
  {
   "cell_type": "code",
   "execution_count": 180,
   "id": "b8970aa3-c99d-4a48-832a-818e61665c3f",
   "metadata": {},
   "outputs": [
    {
     "data": {
      "text/html": [
       "<div>\n",
       "<style scoped>\n",
       "    .dataframe tbody tr th:only-of-type {\n",
       "        vertical-align: middle;\n",
       "    }\n",
       "\n",
       "    .dataframe tbody tr th {\n",
       "        vertical-align: top;\n",
       "    }\n",
       "\n",
       "    .dataframe thead th {\n",
       "        text-align: right;\n",
       "    }\n",
       "</style>\n",
       "<table border=\"1\" class=\"dataframe\">\n",
       "  <thead>\n",
       "    <tr style=\"text-align: right;\">\n",
       "      <th></th>\n",
       "      <th>group</th>\n",
       "      <th>pass</th>\n",
       "      <th>classified</th>\n",
       "      <th>unclassified</th>\n",
       "      <th>total</th>\n",
       "    </tr>\n",
       "  </thead>\n",
       "  <tbody>\n",
       "    <tr>\n",
       "      <th>SRR9684969</th>\n",
       "      <td>oral2</td>\n",
       "      <td>True</td>\n",
       "      <td>12588100.0</td>\n",
       "      <td>112602.0</td>\n",
       "      <td>12700702.0</td>\n",
       "    </tr>\n",
       "    <tr>\n",
       "      <th>ERR1711741</th>\n",
       "      <td>gut2</td>\n",
       "      <td>True</td>\n",
       "      <td>22752015.0</td>\n",
       "      <td>17955429.0</td>\n",
       "      <td>40707444.0</td>\n",
       "    </tr>\n",
       "    <tr>\n",
       "      <th>ERR1711699</th>\n",
       "      <td>gut2</td>\n",
       "      <td>True</td>\n",
       "      <td>40184284.0</td>\n",
       "      <td>35254459.0</td>\n",
       "      <td>75438743.0</td>\n",
       "    </tr>\n",
       "    <tr>\n",
       "      <th>ERR1711776</th>\n",
       "      <td>gut2</td>\n",
       "      <td>True</td>\n",
       "      <td>17578605.0</td>\n",
       "      <td>21187571.0</td>\n",
       "      <td>38766176.0</td>\n",
       "    </tr>\n",
       "    <tr>\n",
       "      <th>ERR1711718</th>\n",
       "      <td>gut2</td>\n",
       "      <td>True</td>\n",
       "      <td>57875446.0</td>\n",
       "      <td>22319162.0</td>\n",
       "      <td>80194608.0</td>\n",
       "    </tr>\n",
       "    <tr>\n",
       "      <th>...</th>\n",
       "      <td>...</td>\n",
       "      <td>...</td>\n",
       "      <td>...</td>\n",
       "      <td>...</td>\n",
       "      <td>...</td>\n",
       "    </tr>\n",
       "    <tr>\n",
       "      <th>SRR9685005</th>\n",
       "      <td>oral2</td>\n",
       "      <td>False</td>\n",
       "      <td>NaN</td>\n",
       "      <td>NaN</td>\n",
       "      <td>NaN</td>\n",
       "    </tr>\n",
       "    <tr>\n",
       "      <th>SRR9685006</th>\n",
       "      <td>oral2</td>\n",
       "      <td>False</td>\n",
       "      <td>NaN</td>\n",
       "      <td>NaN</td>\n",
       "      <td>NaN</td>\n",
       "    </tr>\n",
       "    <tr>\n",
       "      <th>SRR9685007</th>\n",
       "      <td>oral2</td>\n",
       "      <td>False</td>\n",
       "      <td>NaN</td>\n",
       "      <td>NaN</td>\n",
       "      <td>NaN</td>\n",
       "    </tr>\n",
       "    <tr>\n",
       "      <th>SRR9685008</th>\n",
       "      <td>oral2</td>\n",
       "      <td>False</td>\n",
       "      <td>NaN</td>\n",
       "      <td>NaN</td>\n",
       "      <td>NaN</td>\n",
       "    </tr>\n",
       "    <tr>\n",
       "      <th>SRR9685009</th>\n",
       "      <td>oral2</td>\n",
       "      <td>False</td>\n",
       "      <td>NaN</td>\n",
       "      <td>NaN</td>\n",
       "      <td>NaN</td>\n",
       "    </tr>\n",
       "  </tbody>\n",
       "</table>\n",
       "<p>567 rows × 5 columns</p>\n",
       "</div>"
      ],
      "text/plain": [
       "            group   pass  classified  unclassified       total\n",
       "SRR9684969  oral2   True  12588100.0      112602.0  12700702.0\n",
       "ERR1711741   gut2   True  22752015.0    17955429.0  40707444.0\n",
       "ERR1711699   gut2   True  40184284.0    35254459.0  75438743.0\n",
       "ERR1711776   gut2   True  17578605.0    21187571.0  38766176.0\n",
       "ERR1711718   gut2   True  57875446.0    22319162.0  80194608.0\n",
       "...           ...    ...         ...           ...         ...\n",
       "SRR9685005  oral2  False         NaN           NaN         NaN\n",
       "SRR9685006  oral2  False         NaN           NaN         NaN\n",
       "SRR9685007  oral2  False         NaN           NaN         NaN\n",
       "SRR9685008  oral2  False         NaN           NaN         NaN\n",
       "SRR9685009  oral2  False         NaN           NaN         NaN\n",
       "\n",
       "[567 rows x 5 columns]"
      ]
     },
     "execution_count": 180,
     "metadata": {},
     "output_type": "execute_result"
    }
   ],
   "source": [
    "kc.metadata"
   ]
  },
  {
   "cell_type": "code",
   "execution_count": 5,
   "id": "001f6d69-36f2-495a-ad18-181f9c8104e5",
   "metadata": {},
   "outputs": [],
   "source": [
    "with open(\"data/combined.csv\", \"r\") as f:\n",
    "    for line in f:\n",
    "        sample_id, group = line.strip().split(\",\")\n",
    "        kc.metadata[sample_id][\"group\"] = group"
   ]
  },
  {
   "cell_type": "code",
   "execution_count": 48,
   "id": "9d77f034-43f1-4d44-900d-c9775ee75894",
   "metadata": {},
   "outputs": [],
   "source": [
    "#kc.normalize_counts()\n",
    "kc.filter_samples()\n",
    "kc.filter_taxa()"
   ]
  },
  {
   "cell_type": "code",
   "execution_count": 56,
   "id": "a7b837f9-b180-40ac-9824-d5ef2bef3f40",
   "metadata": {},
   "outputs": [
    {
     "data": {
      "text/html": [
       "<div>\n",
       "<style scoped>\n",
       "    .dataframe tbody tr th:only-of-type {\n",
       "        vertical-align: middle;\n",
       "    }\n",
       "\n",
       "    .dataframe tbody tr th {\n",
       "        vertical-align: top;\n",
       "    }\n",
       "\n",
       "    .dataframe thead th {\n",
       "        text-align: right;\n",
       "    }\n",
       "</style>\n",
       "<table border=\"1\" class=\"dataframe\">\n",
       "  <thead>\n",
       "    <tr style=\"text-align: right;\">\n",
       "      <th></th>\n",
       "    </tr>\n",
       "  </thead>\n",
       "  <tbody>\n",
       "  </tbody>\n",
       "</table>\n",
       "</div>"
      ],
      "text/plain": [
       "Empty DataFrame\n",
       "Columns: []\n",
       "Index: []"
      ]
     },
     "execution_count": 56,
     "metadata": {},
     "output_type": "execute_result"
    }
   ],
   "source": [
    "kc.metadata"
   ]
  },
  {
   "cell_type": "code",
   "execution_count": null,
   "id": "fa1aa92c-4f6a-4dbf-8d34-70216a8fcadf",
   "metadata": {},
   "outputs": [],
   "source": [
    "%%R "
   ]
  },
  {
   "cell_type": "code",
   "execution_count": null,
   "id": "d7adead1-7b49-4366-b23c-d2b3aaf51ce5",
   "metadata": {},
   "outputs": [],
   "source": []
  },
  {
   "cell_type": "code",
   "execution_count": 91,
   "id": "4cb83cf6-0a33-4131-bce8-e08852432b75",
   "metadata": {},
   "outputs": [
    {
     "data": {
      "text/html": [
       "<div>\n",
       "<style scoped>\n",
       "    .dataframe tbody tr th:only-of-type {\n",
       "        vertical-align: middle;\n",
       "    }\n",
       "\n",
       "    .dataframe tbody tr th {\n",
       "        vertical-align: top;\n",
       "    }\n",
       "\n",
       "    .dataframe thead th {\n",
       "        text-align: right;\n",
       "    }\n",
       "</style>\n",
       "<table border=\"1\" class=\"dataframe\">\n",
       "  <thead>\n",
       "    <tr style=\"text-align: right;\">\n",
       "      <th></th>\n",
       "      <th>SRR9684969</th>\n",
       "      <th>ERR1711741</th>\n",
       "      <th>ERR1711699</th>\n",
       "      <th>ERR1711776</th>\n",
       "      <th>ERR1711718</th>\n",
       "      <th>SRR2193647</th>\n",
       "      <th>SRR2221476</th>\n",
       "      <th>SRR2188500</th>\n",
       "      <th>SRR2194525</th>\n",
       "      <th>ERR1711673</th>\n",
       "      <th>...</th>\n",
       "      <th>ERR1711751</th>\n",
       "      <th>SRR9684993</th>\n",
       "      <th>SRR2223609</th>\n",
       "      <th>SRR2224242</th>\n",
       "      <th>SRR9966495</th>\n",
       "      <th>SRR2188671</th>\n",
       "      <th>SRR2224484</th>\n",
       "      <th>SRR2224837</th>\n",
       "      <th>SRR9966514</th>\n",
       "      <th>SRR9966523</th>\n",
       "    </tr>\n",
       "  </thead>\n",
       "  <tbody>\n",
       "    <tr>\n",
       "      <th>6</th>\n",
       "      <td>0.0</td>\n",
       "      <td>1.424761e+09</td>\n",
       "      <td>1.010879e+10</td>\n",
       "      <td>1.977075e+09</td>\n",
       "      <td>1.443503e+09</td>\n",
       "      <td>0.0</td>\n",
       "      <td>0.0</td>\n",
       "      <td>0.0</td>\n",
       "      <td>0.0</td>\n",
       "      <td>4.301566e+08</td>\n",
       "      <td>...</td>\n",
       "      <td>3.021207e+09</td>\n",
       "      <td>0.0</td>\n",
       "      <td>0.0</td>\n",
       "      <td>0.0</td>\n",
       "      <td>12339552.0</td>\n",
       "      <td>0.0</td>\n",
       "      <td>0.0</td>\n",
       "      <td>0.0</td>\n",
       "      <td>2349750.0</td>\n",
       "      <td>0.000000e+00</td>\n",
       "    </tr>\n",
       "    <tr>\n",
       "      <th>10</th>\n",
       "      <td>0.0</td>\n",
       "      <td>2.238909e+09</td>\n",
       "      <td>1.214564e+10</td>\n",
       "      <td>4.458110e+09</td>\n",
       "      <td>1.138763e+10</td>\n",
       "      <td>0.0</td>\n",
       "      <td>0.0</td>\n",
       "      <td>1064678.0</td>\n",
       "      <td>286654.0</td>\n",
       "      <td>6.765190e+09</td>\n",
       "      <td>...</td>\n",
       "      <td>6.564599e+09</td>\n",
       "      <td>40436538.0</td>\n",
       "      <td>83068664.0</td>\n",
       "      <td>0.0</td>\n",
       "      <td>12339552.0</td>\n",
       "      <td>399122.0</td>\n",
       "      <td>0.0</td>\n",
       "      <td>225040.0</td>\n",
       "      <td>939900.0</td>\n",
       "      <td>2.236826e+08</td>\n",
       "    </tr>\n",
       "    <tr>\n",
       "      <th>13</th>\n",
       "      <td>0.0</td>\n",
       "      <td>5.699042e+08</td>\n",
       "      <td>6.110538e+09</td>\n",
       "      <td>1.550647e+09</td>\n",
       "      <td>6.736347e+09</td>\n",
       "      <td>0.0</td>\n",
       "      <td>0.0</td>\n",
       "      <td>1064678.0</td>\n",
       "      <td>0.0</td>\n",
       "      <td>1.016734e+09</td>\n",
       "      <td>...</td>\n",
       "      <td>1.454655e+09</td>\n",
       "      <td>13478846.0</td>\n",
       "      <td>14659176.0</td>\n",
       "      <td>0.0</td>\n",
       "      <td>18509328.0</td>\n",
       "      <td>0.0</td>\n",
       "      <td>0.0</td>\n",
       "      <td>0.0</td>\n",
       "      <td>0.0</td>\n",
       "      <td>2.982434e+07</td>\n",
       "    </tr>\n",
       "    <tr>\n",
       "      <th>16</th>\n",
       "      <td>0.0</td>\n",
       "      <td>1.730066e+10</td>\n",
       "      <td>1.010879e+10</td>\n",
       "      <td>2.907463e+09</td>\n",
       "      <td>3.528563e+09</td>\n",
       "      <td>213058.0</td>\n",
       "      <td>0.0</td>\n",
       "      <td>2129356.0</td>\n",
       "      <td>0.0</td>\n",
       "      <td>1.446890e+09</td>\n",
       "      <td>...</td>\n",
       "      <td>4.102874e+09</td>\n",
       "      <td>0.0</td>\n",
       "      <td>34204744.0</td>\n",
       "      <td>0.0</td>\n",
       "      <td>0.0</td>\n",
       "      <td>0.0</td>\n",
       "      <td>0.0</td>\n",
       "      <td>0.0</td>\n",
       "      <td>939900.0</td>\n",
       "      <td>7.456085e+07</td>\n",
       "    </tr>\n",
       "    <tr>\n",
       "      <th>18</th>\n",
       "      <td>0.0</td>\n",
       "      <td>1.510246e+10</td>\n",
       "      <td>1.116493e+10</td>\n",
       "      <td>4.690707e+09</td>\n",
       "      <td>4.651287e+09</td>\n",
       "      <td>0.0</td>\n",
       "      <td>0.0</td>\n",
       "      <td>0.0</td>\n",
       "      <td>0.0</td>\n",
       "      <td>1.173154e+09</td>\n",
       "      <td>...</td>\n",
       "      <td>3.506092e+09</td>\n",
       "      <td>0.0</td>\n",
       "      <td>0.0</td>\n",
       "      <td>0.0</td>\n",
       "      <td>2056592.0</td>\n",
       "      <td>0.0</td>\n",
       "      <td>0.0</td>\n",
       "      <td>0.0</td>\n",
       "      <td>0.0</td>\n",
       "      <td>0.000000e+00</td>\n",
       "    </tr>\n",
       "    <tr>\n",
       "      <th>...</th>\n",
       "      <td>...</td>\n",
       "      <td>...</td>\n",
       "      <td>...</td>\n",
       "      <td>...</td>\n",
       "      <td>...</td>\n",
       "      <td>...</td>\n",
       "      <td>...</td>\n",
       "      <td>...</td>\n",
       "      <td>...</td>\n",
       "      <td>...</td>\n",
       "      <td>...</td>\n",
       "      <td>...</td>\n",
       "      <td>...</td>\n",
       "      <td>...</td>\n",
       "      <td>...</td>\n",
       "      <td>...</td>\n",
       "      <td>...</td>\n",
       "      <td>...</td>\n",
       "      <td>...</td>\n",
       "      <td>...</td>\n",
       "      <td>...</td>\n",
       "    </tr>\n",
       "    <tr>\n",
       "      <th>3075137</th>\n",
       "      <td>12700702.0</td>\n",
       "      <td>2.564569e+09</td>\n",
       "      <td>3.696498e+09</td>\n",
       "      <td>3.411423e+09</td>\n",
       "      <td>2.245449e+09</td>\n",
       "      <td>0.0</td>\n",
       "      <td>0.0</td>\n",
       "      <td>0.0</td>\n",
       "      <td>0.0</td>\n",
       "      <td>7.429978e+08</td>\n",
       "      <td>...</td>\n",
       "      <td>2.349828e+09</td>\n",
       "      <td>0.0</td>\n",
       "      <td>0.0</td>\n",
       "      <td>0.0</td>\n",
       "      <td>28792288.0</td>\n",
       "      <td>399122.0</td>\n",
       "      <td>0.0</td>\n",
       "      <td>0.0</td>\n",
       "      <td>3759600.0</td>\n",
       "      <td>2.982434e+07</td>\n",
       "    </tr>\n",
       "    <tr>\n",
       "      <th>3076095</th>\n",
       "      <td>12700702.0</td>\n",
       "      <td>5.699042e+08</td>\n",
       "      <td>2.036846e+09</td>\n",
       "      <td>3.101294e+08</td>\n",
       "      <td>3.207784e+08</td>\n",
       "      <td>0.0</td>\n",
       "      <td>0.0</td>\n",
       "      <td>0.0</td>\n",
       "      <td>0.0</td>\n",
       "      <td>6.647875e+08</td>\n",
       "      <td>...</td>\n",
       "      <td>4.848851e+08</td>\n",
       "      <td>0.0</td>\n",
       "      <td>9772784.0</td>\n",
       "      <td>0.0</td>\n",
       "      <td>0.0</td>\n",
       "      <td>0.0</td>\n",
       "      <td>0.0</td>\n",
       "      <td>0.0</td>\n",
       "      <td>0.0</td>\n",
       "      <td>1.789460e+08</td>\n",
       "    </tr>\n",
       "    <tr>\n",
       "      <th>3076670</th>\n",
       "      <td>0.0</td>\n",
       "      <td>1.682032e+11</td>\n",
       "      <td>5.385572e+11</td>\n",
       "      <td>9.350402e+10</td>\n",
       "      <td>6.786068e+11</td>\n",
       "      <td>0.0</td>\n",
       "      <td>0.0</td>\n",
       "      <td>0.0</td>\n",
       "      <td>0.0</td>\n",
       "      <td>1.202092e+11</td>\n",
       "      <td>...</td>\n",
       "      <td>1.805638e+11</td>\n",
       "      <td>53915384.0</td>\n",
       "      <td>68409488.0</td>\n",
       "      <td>879432.0</td>\n",
       "      <td>0.0</td>\n",
       "      <td>399122.0</td>\n",
       "      <td>0.0</td>\n",
       "      <td>0.0</td>\n",
       "      <td>0.0</td>\n",
       "      <td>0.000000e+00</td>\n",
       "    </tr>\n",
       "    <tr>\n",
       "      <th>3076685</th>\n",
       "      <td>0.0</td>\n",
       "      <td>8.548563e+08</td>\n",
       "      <td>7.166681e+09</td>\n",
       "      <td>1.124219e+09</td>\n",
       "      <td>1.283114e+09</td>\n",
       "      <td>0.0</td>\n",
       "      <td>0.0</td>\n",
       "      <td>0.0</td>\n",
       "      <td>0.0</td>\n",
       "      <td>2.346309e+08</td>\n",
       "      <td>...</td>\n",
       "      <td>1.081667e+09</td>\n",
       "      <td>0.0</td>\n",
       "      <td>0.0</td>\n",
       "      <td>0.0</td>\n",
       "      <td>4113184.0</td>\n",
       "      <td>0.0</td>\n",
       "      <td>0.0</td>\n",
       "      <td>0.0</td>\n",
       "      <td>469950.0</td>\n",
       "      <td>0.000000e+00</td>\n",
       "    </tr>\n",
       "    <tr>\n",
       "      <th>3078171</th>\n",
       "      <td>0.0</td>\n",
       "      <td>2.849521e+08</td>\n",
       "      <td>1.576670e+10</td>\n",
       "      <td>4.070448e+09</td>\n",
       "      <td>6.736347e+09</td>\n",
       "      <td>0.0</td>\n",
       "      <td>0.0</td>\n",
       "      <td>2129356.0</td>\n",
       "      <td>0.0</td>\n",
       "      <td>4.301566e+08</td>\n",
       "      <td>...</td>\n",
       "      <td>4.923449e+09</td>\n",
       "      <td>0.0</td>\n",
       "      <td>29318352.0</td>\n",
       "      <td>0.0</td>\n",
       "      <td>0.0</td>\n",
       "      <td>0.0</td>\n",
       "      <td>0.0</td>\n",
       "      <td>675120.0</td>\n",
       "      <td>469950.0</td>\n",
       "      <td>6.668722e+10</td>\n",
       "    </tr>\n",
       "  </tbody>\n",
       "</table>\n",
       "<p>3433 rows × 561 columns</p>\n",
       "</div>"
      ],
      "text/plain": [
       "         SRR9684969    ERR1711741    ERR1711699    ERR1711776    ERR1711718  \\\n",
       "6               0.0  1.424761e+09  1.010879e+10  1.977075e+09  1.443503e+09   \n",
       "10              0.0  2.238909e+09  1.214564e+10  4.458110e+09  1.138763e+10   \n",
       "13              0.0  5.699042e+08  6.110538e+09  1.550647e+09  6.736347e+09   \n",
       "16              0.0  1.730066e+10  1.010879e+10  2.907463e+09  3.528563e+09   \n",
       "18              0.0  1.510246e+10  1.116493e+10  4.690707e+09  4.651287e+09   \n",
       "...             ...           ...           ...           ...           ...   \n",
       "3075137  12700702.0  2.564569e+09  3.696498e+09  3.411423e+09  2.245449e+09   \n",
       "3076095  12700702.0  5.699042e+08  2.036846e+09  3.101294e+08  3.207784e+08   \n",
       "3076670         0.0  1.682032e+11  5.385572e+11  9.350402e+10  6.786068e+11   \n",
       "3076685         0.0  8.548563e+08  7.166681e+09  1.124219e+09  1.283114e+09   \n",
       "3078171         0.0  2.849521e+08  1.576670e+10  4.070448e+09  6.736347e+09   \n",
       "\n",
       "         SRR2193647  SRR2221476  SRR2188500  SRR2194525    ERR1711673  ...  \\\n",
       "6               0.0         0.0         0.0         0.0  4.301566e+08  ...   \n",
       "10              0.0         0.0   1064678.0    286654.0  6.765190e+09  ...   \n",
       "13              0.0         0.0   1064678.0         0.0  1.016734e+09  ...   \n",
       "16         213058.0         0.0   2129356.0         0.0  1.446890e+09  ...   \n",
       "18              0.0         0.0         0.0         0.0  1.173154e+09  ...   \n",
       "...             ...         ...         ...         ...           ...  ...   \n",
       "3075137         0.0         0.0         0.0         0.0  7.429978e+08  ...   \n",
       "3076095         0.0         0.0         0.0         0.0  6.647875e+08  ...   \n",
       "3076670         0.0         0.0         0.0         0.0  1.202092e+11  ...   \n",
       "3076685         0.0         0.0         0.0         0.0  2.346309e+08  ...   \n",
       "3078171         0.0         0.0   2129356.0         0.0  4.301566e+08  ...   \n",
       "\n",
       "           ERR1711751  SRR9684993  SRR2223609  SRR2224242  SRR9966495  \\\n",
       "6        3.021207e+09         0.0         0.0         0.0  12339552.0   \n",
       "10       6.564599e+09  40436538.0  83068664.0         0.0  12339552.0   \n",
       "13       1.454655e+09  13478846.0  14659176.0         0.0  18509328.0   \n",
       "16       4.102874e+09         0.0  34204744.0         0.0         0.0   \n",
       "18       3.506092e+09         0.0         0.0         0.0   2056592.0   \n",
       "...               ...         ...         ...         ...         ...   \n",
       "3075137  2.349828e+09         0.0         0.0         0.0  28792288.0   \n",
       "3076095  4.848851e+08         0.0   9772784.0         0.0         0.0   \n",
       "3076670  1.805638e+11  53915384.0  68409488.0    879432.0         0.0   \n",
       "3076685  1.081667e+09         0.0         0.0         0.0   4113184.0   \n",
       "3078171  4.923449e+09         0.0  29318352.0         0.0         0.0   \n",
       "\n",
       "         SRR2188671  SRR2224484  SRR2224837  SRR9966514    SRR9966523  \n",
       "6               0.0         0.0         0.0   2349750.0  0.000000e+00  \n",
       "10         399122.0         0.0    225040.0    939900.0  2.236826e+08  \n",
       "13              0.0         0.0         0.0         0.0  2.982434e+07  \n",
       "16              0.0         0.0         0.0    939900.0  7.456085e+07  \n",
       "18              0.0         0.0         0.0         0.0  0.000000e+00  \n",
       "...             ...         ...         ...         ...           ...  \n",
       "3075137    399122.0         0.0         0.0   3759600.0  2.982434e+07  \n",
       "3076095         0.0         0.0         0.0         0.0  1.789460e+08  \n",
       "3076670    399122.0         0.0         0.0         0.0  0.000000e+00  \n",
       "3076685         0.0         0.0         0.0    469950.0  0.000000e+00  \n",
       "3078171         0.0         0.0    675120.0    469950.0  6.668722e+10  \n",
       "\n",
       "[3433 rows x 561 columns]"
      ]
     },
     "execution_count": 91,
     "metadata": {},
     "output_type": "execute_result"
    }
   ],
   "source": [
    "kc.normalize_counts()\n",
    "kc.counts"
   ]
  },
  {
   "cell_type": "code",
   "execution_count": 98,
   "id": "67518a24-d8ed-474b-9951-058939f8c61f",
   "metadata": {},
   "outputs": [],
   "source": [
    "nz = kc.counts[\"SRR9684969\"][kc.counts[\"SRR9684969\"] > 0]"
   ]
  },
  {
   "cell_type": "code",
   "execution_count": 106,
   "id": "95453055-3155-40eb-9dd4-addec792981e",
   "metadata": {},
   "outputs": [
    {
     "data": {
      "text/plain": [
       "20          1\n",
       "22         21\n",
       "32          2\n",
       "50          2\n",
       "59         58\n",
       "           ..\n",
       "3050898     5\n",
       "3051137     3\n",
       "3051458     2\n",
       "3075137     1\n",
       "3076095     1\n",
       "Name: SRR9684969, Length: 793, dtype: int64"
      ]
     },
     "execution_count": 106,
     "metadata": {},
     "output_type": "execute_result"
    }
   ],
   "source": [
    "nz"
   ]
  },
  {
   "cell_type": "code",
   "execution_count": null,
   "id": "fcd0e516-993f-4f49-9333-d7a5c1610c53",
   "metadata": {},
   "outputs": [],
   "source": [
    "sns.histplot(x=nz)"
   ]
  },
  {
   "cell_type": "code",
   "execution_count": null,
   "id": "296f8a57-53b0-4811-9492-3fea52878d7a",
   "metadata": {},
   "outputs": [],
   "source": [
    "sns.set(color_codes=True)\n",
    "sns.set(style=\"white\", palette=\"muted\")\n",
    "sns.distplot(nz)\n",
    "\n",
    "#for col_id in kc.counts.columns[:3]:\n",
    "#    sns.histplot(kc.counts[col_id])"
   ]
  },
  {
   "cell_type": "code",
   "execution_count": null,
   "id": "afc2afbd-c598-42c3-8b5b-dedf92ecc884",
   "metadata": {},
   "outputs": [],
   "source": []
  },
  {
   "cell_type": "code",
   "execution_count": 16,
   "id": "24a73c86-34dd-4286-86e1-1ea14f0b5d18",
   "metadata": {},
   "outputs": [
    {
     "data": {
      "text/plain": [
       "True"
      ]
     },
     "execution_count": 16,
     "metadata": {},
     "output_type": "execute_result"
    }
   ],
   "source": [
    "kc.counts[\"ERR1711656\"].dtype == 'float64'"
   ]
  },
  {
   "cell_type": "code",
   "execution_count": 54,
   "id": "57e4ed1f-eb98-4eb2-bc47-6699a0443481",
   "metadata": {},
   "outputs": [
    {
     "data": {
      "text/html": [
       "<div>\n",
       "<style scoped>\n",
       "    .dataframe tbody tr th:only-of-type {\n",
       "        vertical-align: middle;\n",
       "    }\n",
       "\n",
       "    .dataframe tbody tr th {\n",
       "        vertical-align: top;\n",
       "    }\n",
       "\n",
       "    .dataframe thead th {\n",
       "        text-align: right;\n",
       "    }\n",
       "</style>\n",
       "<table border=\"1\" class=\"dataframe\">\n",
       "  <thead>\n",
       "    <tr style=\"text-align: right;\">\n",
       "      <th></th>\n",
       "      <th>count</th>\n",
       "      <th>min</th>\n",
       "      <th>max</th>\n",
       "      <th>mean</th>\n",
       "      <th>mdiean</th>\n",
       "      <th>percent</th>\n",
       "    </tr>\n",
       "  </thead>\n",
       "  <tbody>\n",
       "    <tr>\n",
       "      <th>475</th>\n",
       "      <td>536</td>\n",
       "      <td>0.000000e+00</td>\n",
       "      <td>0.779328</td>\n",
       "      <td>0.019496</td>\n",
       "      <td>0.000009</td>\n",
       "      <td>0.955437</td>\n",
       "    </tr>\n",
       "    <tr>\n",
       "      <th>482</th>\n",
       "      <td>561</td>\n",
       "      <td>2.662239e-06</td>\n",
       "      <td>0.222834</td>\n",
       "      <td>0.013372</td>\n",
       "      <td>0.000108</td>\n",
       "      <td>1.000000</td>\n",
       "    </tr>\n",
       "    <tr>\n",
       "      <th>816</th>\n",
       "      <td>560</td>\n",
       "      <td>0.000000e+00</td>\n",
       "      <td>0.503522</td>\n",
       "      <td>0.055052</td>\n",
       "      <td>0.000207</td>\n",
       "      <td>0.998217</td>\n",
       "    </tr>\n",
       "    <tr>\n",
       "      <th>838</th>\n",
       "      <td>561</td>\n",
       "      <td>5.410210e-07</td>\n",
       "      <td>0.260674</td>\n",
       "      <td>0.015475</td>\n",
       "      <td>0.000738</td>\n",
       "      <td>1.000000</td>\n",
       "    </tr>\n",
       "    <tr>\n",
       "      <th>1301</th>\n",
       "      <td>561</td>\n",
       "      <td>7.795499e-05</td>\n",
       "      <td>0.733655</td>\n",
       "      <td>0.042052</td>\n",
       "      <td>0.002869</td>\n",
       "      <td>1.000000</td>\n",
       "    </tr>\n",
       "    <tr>\n",
       "      <th>9605</th>\n",
       "      <td>561</td>\n",
       "      <td>3.532241e-05</td>\n",
       "      <td>0.986364</td>\n",
       "      <td>0.285253</td>\n",
       "      <td>0.167560</td>\n",
       "      <td>1.000000</td>\n",
       "    </tr>\n",
       "    <tr>\n",
       "      <th>239759</th>\n",
       "      <td>553</td>\n",
       "      <td>0.000000e+00</td>\n",
       "      <td>0.267615</td>\n",
       "      <td>0.014677</td>\n",
       "      <td>0.000043</td>\n",
       "      <td>0.985740</td>\n",
       "    </tr>\n",
       "    <tr>\n",
       "      <th>909656</th>\n",
       "      <td>545</td>\n",
       "      <td>0.000000e+00</td>\n",
       "      <td>0.433840</td>\n",
       "      <td>0.019493</td>\n",
       "      <td>0.000033</td>\n",
       "      <td>0.971480</td>\n",
       "    </tr>\n",
       "  </tbody>\n",
       "</table>\n",
       "</div>"
      ],
      "text/plain": [
       "        count           min       max      mean    mdiean   percent\n",
       "475       536  0.000000e+00  0.779328  0.019496  0.000009  0.955437\n",
       "482       561  2.662239e-06  0.222834  0.013372  0.000108  1.000000\n",
       "816       560  0.000000e+00  0.503522  0.055052  0.000207  0.998217\n",
       "838       561  5.410210e-07  0.260674  0.015475  0.000738  1.000000\n",
       "1301      561  7.795499e-05  0.733655  0.042052  0.002869  1.000000\n",
       "9605      561  3.532241e-05  0.986364  0.285253  0.167560  1.000000\n",
       "239759    553  0.000000e+00  0.267615  0.014677  0.000043  0.985740\n",
       "909656    545  0.000000e+00  0.433840  0.019493  0.000033  0.971480"
      ]
     },
     "execution_count": 54,
     "metadata": {},
     "output_type": "execute_result"
    }
   ],
   "source": [
    "kc.taxa[kc.taxa[\"mean\"]>0.01]"
   ]
  },
  {
   "cell_type": "code",
   "execution_count": 59,
   "id": "4b11204b-445c-4e15-af67-dcdb09ce8785",
   "metadata": {},
   "outputs": [],
   "source": [
    "from scipy import stats\n",
    "\n",
    "dist = stats.gamma\n",
    "bounds = [(0, 1), (0, 1)]\n",
    "data = [c for c in kc.counts.loc[475,:] if c > 0.001]\n",
    "res = stats.fit(dist, data, bounds)\n"
   ]
  },
  {
   "cell_type": "code",
   "execution_count": 60,
   "id": "6ef5a85b-ff63-4bce-8897-9142f8a9ac2c",
   "metadata": {},
   "outputs": [
    {
     "data": {
      "image/png": "[encoded data removed]",
      "text/plain": [
       "<Figure size 640x480 with 1 Axes>"
      ]
     },
     "metadata": {},
     "output_type": "display_data"
    }
   ],
   "source": [
    "import matplotlib.pyplot as plt  # matplotlib must be installed to plot\n",
    "res.plot()\n",
    "plt.show()"
   ]
  },
  {
   "cell_type": "code",
   "execution_count": 30,
   "id": "909bccc8-59c1-4831-99d8-3d217961f86b",
   "metadata": {},
   "outputs": [
    {
     "name": "stdout",
     "output_type": "stream",
     "text": [
      "Collecting matplotlib\n",
      "  Downloading matplotlib-3.9.0-cp310-cp310-macosx_10_12_x86_64.whl.metadata (11 kB)\n",
      "Collecting contourpy>=1.0.1 (from matplotlib)\n",
      "  Downloading contourpy-1.2.1-cp310-cp310-macosx_10_9_x86_64.whl.metadata (5.8 kB)\n",
      "Collecting cycler>=0.10 (from matplotlib)\n",
      "  Using cached cycler-0.12.1-py3-none-any.whl.metadata (3.8 kB)\n",
      "Collecting fonttools>=4.22.0 (from matplotlib)\n",
      "  Downloading fonttools-4.52.4-cp310-cp310-macosx_10_9_universal2.whl.metadata (161 kB)\n",
      "\u001b[2K     \u001b[90m━━━━━━━━━━━━━━━━━━━━━━━━━━━━━━━━━━━━━━━\u001b[0m \u001b[32m161.7/161.7 kB\u001b[0m \u001b[31m3.2 MB/s\u001b[0m eta \u001b[36m0:00:00\u001b[0ma \u001b[36m0:00:01\u001b[0m\n",
      "\u001b[?25hCollecting kiwisolver>=1.3.1 (from matplotlib)\n",
      "  Using cached kiwisolver-1.4.5-cp310-cp310-macosx_10_9_x86_64.whl.metadata (6.4 kB)\n",
      "Requirement already satisfied: numpy>=1.23 in /opt/miniconda3/envs/pathbio3/lib/python3.10/site-packages (from matplotlib) (1.26.4)\n",
      "Requirement already satisfied: packaging>=20.0 in /opt/miniconda3/envs/pathbio3/lib/python3.10/site-packages (from matplotlib) (24.0)\n",
      "Collecting pillow>=8 (from matplotlib)\n",
      "  Downloading pillow-10.3.0-cp310-cp310-macosx_10_10_x86_64.whl.metadata (9.2 kB)\n",
      "Collecting pyparsing>=2.3.1 (from matplotlib)\n",
      "  Downloading pyparsing-3.1.2-py3-none-any.whl.metadata (5.1 kB)\n",
      "Requirement already satisfied: python-dateutil>=2.7 in /opt/miniconda3/envs/pathbio3/lib/python3.10/site-packages (from matplotlib) (2.9.0)\n",
      "Requirement already satisfied: six>=1.5 in /opt/miniconda3/envs/pathbio3/lib/python3.10/site-packages (from python-dateutil>=2.7->matplotlib) (1.16.0)\n",
      "Downloading matplotlib-3.9.0-cp310-cp310-macosx_10_12_x86_64.whl (7.9 MB)\n",
      "\u001b[2K   \u001b[90m━━━━━━━━━━━━━━━━━━━━━━━━━━━━━━━━━━━━━━━━\u001b[0m \u001b[32m7.9/7.9 MB\u001b[0m \u001b[31m56.4 MB/s\u001b[0m eta \u001b[36m0:00:00\u001b[0m00:01\u001b[0m00:01\u001b[0m\n",
      "\u001b[?25hDownloading contourpy-1.2.1-cp310-cp310-macosx_10_9_x86_64.whl (260 kB)\n",
      "\u001b[2K   \u001b[90m━━━━━━━━━━━━━━━━━━━━━━━━━━━━━━━━━━━━━━━━\u001b[0m \u001b[32m260.8/260.8 kB\u001b[0m \u001b[31m11.2 MB/s\u001b[0m eta \u001b[36m0:00:00\u001b[0m\n",
      "\u001b[?25hUsing cached cycler-0.12.1-py3-none-any.whl (8.3 kB)\n",
      "Downloading fonttools-4.52.4-cp310-cp310-macosx_10_9_universal2.whl (2.8 MB)\n",
      "\u001b[2K   \u001b[90m━━━━━━━━━━━━━━━━━━━━━━━━━━━━━━━━━━━━━━━━\u001b[0m \u001b[32m2.8/2.8 MB\u001b[0m \u001b[31m48.3 MB/s\u001b[0m eta \u001b[36m0:00:00\u001b[0m00:01\u001b[0m\n",
      "\u001b[?25hUsing cached kiwisolver-1.4.5-cp310-cp310-macosx_10_9_x86_64.whl (68 kB)\n",
      "Downloading pillow-10.3.0-cp310-cp310-macosx_10_10_x86_64.whl (3.5 MB)\n",
      "\u001b[2K   \u001b[90m━━━━━━━━━━━━━━━━━━━━━━━━━━━━━━━━━━━━━━━━\u001b[0m \u001b[32m3.5/3.5 MB\u001b[0m \u001b[31m58.5 MB/s\u001b[0m eta \u001b[36m0:00:00\u001b[0m:00:01\u001b[0m\n",
      "\u001b[?25hDownloading pyparsing-3.1.2-py3-none-any.whl (103 kB)\n",
      "\u001b[2K   \u001b[90m━━━━━━━━━━━━━━━━━━━━━━━━━━━━━━━━━━━━━━━━\u001b[0m \u001b[32m103.2/103.2 kB\u001b[0m \u001b[31m4.3 MB/s\u001b[0m eta \u001b[36m0:00:00\u001b[0m\n",
      "\u001b[?25hInstalling collected packages: pyparsing, pillow, kiwisolver, fonttools, cycler, contourpy, matplotlib\n",
      "Successfully installed contourpy-1.2.1 cycler-0.12.1 fonttools-4.52.4 kiwisolver-1.4.5 matplotlib-3.9.0 pillow-10.3.0 pyparsing-3.1.2\n",
      "Note: you may need to restart the kernel to use updated packages.\n"
     ]
    }
   ],
   "source": [
    "pip install matplotlib"
   ]
  },
  {
   "cell_type": "code",
   "execution_count": 213,
   "id": "b0279a70-4dc6-4bae-b2ef-4e5032399b3d",
   "metadata": {},
   "outputs": [
    {
     "name": "stdout",
     "output_type": "stream",
     "text": [
      "14594 0 1057\n"
     ]
    }
   ],
   "source": [
    "s = k.to_source_target_df(max_rank=2, domain=\"Archaea\")"
   ]
  },
  {
   "cell_type": "code",
   "execution_count": 232,
   "id": "05472439-48b2-4344-8aef-b0b9b9bc5160",
   "metadata": {},
   "outputs": [
    {
     "name": "stdout",
     "output_type": "stream",
     "text": [
      "33 15621 24\n"
     ]
    }
   ],
   "source": [
    "s = k.to_source_target_df(max_rank=1)"
   ]
  },
  {
   "cell_type": "code",
   "execution_count": 219,
   "id": "e8c616b6-ecf5-427a-ba75-b5fdb70d6d5f",
   "metadata": {},
   "outputs": [
    {
     "name": "stdout",
     "output_type": "stream",
     "text": [
      "2,Bacteria,D,2,25419649,272915,Bacteria,131567,{2138240, 49928, 2323, 2498710, 74152, 508458, 203691, 68525, 3018035, 40117, 32066, 1224, 2818505, 68297, 200783, 200918, 1783257, 200930, 1802340, 1783270, 1783272, 200938, 29547, 200940, 67818, 1930617, 57723},0,[1, 131567]\n",
      "2290931,Stenosarchaea group,P1,4,6441,106,Archaea,28890,{183963, 224756},2,[1, 131567, 2157, 28890]\n",
      "183963,Halobacteria,C,5,4415,570,Archaea,2290931,{2235, 1644060, 1644055},1,[1, 131567, 2157, 28890, 2290931]\n",
      "2235,Halobacteriales,O,6,1931,62,Archaea,183963,{2976354, 1963268, 1963270, 2236, 3064797},1,[1, 131567, 2157, 28890, 2290931, 183963]\n"
     ]
    }
   ],
   "source": [
    "ids = [2,2290931,183963,2235]\n",
    "for i in ids:\n",
    "    k.entries[i].print()"
   ]
  },
  {
   "cell_type": "code",
   "execution_count": 127,
   "id": "d96af226-7fab-4f16-a28d-d1a5e06fc36f",
   "metadata": {},
   "outputs": [
    {
     "name": "stdout",
     "output_type": "stream",
     "text": [
      "{'source': 'Archaea', 'target': 'Euryarchaeota', 'value': 146391, 'percentage': 0.9939773761186328}\n",
      "{'source': 'Euryarchaeota', 'target': 'Methanobacteria', 'value': 138535, 'percentage': 0.940636075992341}\n",
      "{'source': 'Methanobacteria', 'target': 'Methanobacteriales', 'value': 138535, 'percentage': 0.940636075992341}\n",
      "{'source': 'Methanobacteriales', 'target': 'Methanobacteriaceae', 'value': 138519, 'percentage': 0.9405274379065441}\n",
      "{'source': 'Methanobacteriaceae', 'target': 'Methanobrevibacter', 'value': 137686, 'percentage': 0.9348714675647415}\n",
      "{'source': 'Methanobrevibacter', 'target': 'Methanobrevibacter smithii', 'value': 125658, 'percentage': 0.8532027865669007}\n",
      "{'source': 'Methanobrevibacter smithii', 'target': 'Methanobrevibacter smithii ATCC 35061', 'value': 30787, 'percentage': 0.2090400467143769}\n"
     ]
    }
   ],
   "source": [
    "for r in s:\n",
    "    if r[\"percentage\"] > 0.005:\n",
    "        print(r)\n",
    "        #k.entries[r[\"target\"]].print()"
   ]
  },
  {
   "cell_type": "code",
   "execution_count": 23,
   "id": "4839296c-c495-419c-bbeb-77e59c830278",
   "metadata": {},
   "outputs": [
    {
     "name": "stdout",
     "output_type": "stream",
     "text": [
      "2,Bacteria,D,2,25419649,272915,Bacteria,131567,{2138240, 49928, 2323, 2498710, 74152, 508458, 203691, 68525, 3018035, 40117, 32066, 1224, 2818505, 68297, 200783, 200918, 1783257, 200930, 1802340, 1783270, 1783272, 200938, 29547, 200940, 67818, 1930617, 57723},1,[1, 131567]\n",
      "2157,Archaea,D,2,147278,28,Archaea,131567,{1783275, 1783276, 1935183, 2283796, 28890},1,[1, 131567]\n",
      "2759,Eukaryota,D,2,19264,252,Eukaryota,131567,{33154, 554915, 2611341, 2698737, 3027, 2611352},1,[1, 131567]\n",
      "10239,Viruses,D,1,200970,7,Viruses,1,{2559587, 2732004, 12429, 2731341, 2731342, 2840056},1,[1]\n"
     ]
    },
    {
     "data": {
      "text/plain": [
       "[<__main__.KrakenEntry at 0x168273580>,\n",
       " <__main__.KrakenEntry at 0x166c2b370>,\n",
       " <__main__.KrakenEntry at 0x166cad370>,\n",
       " <__main__.KrakenEntry at 0x166cf8b80>]"
      ]
     },
     "execution_count": 23,
     "metadata": {},
     "output_type": "execute_result"
    }
   ],
   "source": [
    "k.get_domains()"
   ]
  },
  {
   "cell_type": "code",
   "execution_count": 173,
   "id": "f79c9464-d277-48a7-9873-e2098d66c604",
   "metadata": {},
   "outputs": [
    {
     "name": "stdout",
     "output_type": "stream",
     "text": [
      "180 208 55\n",
      "{'source': [0, 1, 2, 3, 4, 5, 6, 7, 1, 8, 9, 10, 11, 12, 13, 14, 14, 15, 13, 13, 16, 13, 11, 17, 18, 17, 19, 10, 20, 21, 22, 23, 22, 10, 24, 25, 26, 26, 10, 27, 28, 29, 30, 28, 31, 32, 27, 33, 34, 35, 9, 36, 37, 38, 39, 40, 9, 41, 42, 43, 44, 44, 43, 45, 42, 46, 47, 47, 9, 48, 49, 50, 51, 52, 51, 53, 50, 54, 55, 54, 56, 49, 57, 58, 59, 58, 60, 57, 61, 62, 9, 63, 64, 65, 66, 66, 8, 67, 68, 69, 70, 71, 69, 72, 73, 68, 74, 75, 76, 67, 77, 78, 79, 80, 81, 67, 82, 83, 84, 85, 85, 86, 8, 87, 88, 89, 90, 89, 91, 0, 92, 93, 94, 95, 96, 97, 98, 98, 99, 98, 98, 95, 100, 101, 102, 102, 103, 102, 104, 100, 105, 106, 106, 107, 94, 108, 109, 110, 111, 110, 112, 113, 109, 114, 115, 116, 92, 117, 118, 119, 120, 121, 122, 123, 118, 124, 125, 126, 127, 128], 'target': [1, 2, 3, 4, 5, 6, 7, 129, 8, 9, 10, 11, 12, 13, 14, 130, 15, 131, 132, 16, 133, 134, 17, 18, 135, 19, 136, 20, 21, 22, 23, 137, 138, 24, 25, 26, 139, 140, 27, 28, 29, 30, 141, 31, 32, 142, 33, 34, 35, 143, 36, 37, 38, 39, 40, 144, 41, 42, 43, 44, 145, 146, 45, 147, 46, 47, 148, 149, 48, 49, 50, 51, 52, 150, 53, 151, 54, 55, 152, 56, 153, 57, 58, 59, 154, 60, 155, 61, 62, 156, 63, 64, 65, 66, 157, 158, 67, 68, 69, 70, 71, 159, 72, 73, 160, 74, 75, 76, 161, 77, 78, 79, 80, 81, 162, 82, 83, 84, 85, 163, 86, 164, 87, 88, 89, 90, 165, 91, 166, 92, 93, 94, 95, 96, 97, 98, 167, 99, 168, 169, 170, 100, 101, 102, 171, 103, 172, 104, 173, 105, 106, 174, 107, 175, 108, 109, 110, 111, 176, 112, 113, 177, 114, 115, 116, 178, 117, 118, 119, 120, 121, 122, 123, 179, 124, 125, 126, 127, 128, 180], 'value': [16685, 13619, 13619, 13619, 13619, 13619, 13619, 13619, 2787, 2291, 1222, 639, 375, 375, 152, 25, 10, 10, 35, 11, 11, 11, 147, 103, 103, 44, 44, 89, 89, 89, 45, 45, 44, 275, 275, 275, 213, 33, 199, 101, 75, 75, 75, 26, 26, 26, 98, 98, 98, 98, 24, 24, 24, 24, 24, 24, 317, 317, 268, 256, 105, 91, 12, 12, 49, 49, 45, 2, 596, 596, 233, 86, 54, 54, 22, 22, 61, 48, 48, 13, 13, 145, 108, 71, 71, 31, 31, 27, 27, 27, 64, 64, 64, 64, 36, 28, 387, 96, 75, 43, 43, 43, 32, 32, 32, 21, 21, 21, 21, 93, 93, 93, 93, 93, 93, 103, 103, 103, 103, 88, 15, 15, 96, 96, 96, 94, 94, 2, 2, 1456, 1347, 1347, 1259, 1044, 1044, 1044, 183, 147, 147, 41, 30, 215, 148, 148, 138, 4, 4, 4, 4, 67, 67, 56, 9, 9, 88, 88, 61, 34, 34, 14, 14, 14, 27, 27, 27, 27, 109, 109, 82, 82, 82, 82, 82, 82, 27, 27, 27, 27, 27, 27], 'percentage': [0.8661233388704319, 0.7069663621262459, 0.7069663621262459, 0.7069663621262459, 0.7069663621262459, 0.7069663621262459, 0.7069663621262459, 0.7069663621262459, 0.14467400332225913, 0.11892649501661129, 0.0634343853820598, 0.033170681063122924, 0.019466362126245848, 0.019466362126245848, 0.007890365448504983, 0.0012977574750830565, 0.0005191029900332226, 0.0005191029900332226, 0.001816860465116279, 0.0005710132890365449, 0.0005710132890365449, 0.0005710132890365449, 0.007630813953488372, 0.005346760797342193, 0.005346760797342193, 0.0022840531561461796, 0.0022840531561461796, 0.004620016611295681, 0.004620016611295681, 0.004620016611295681, 0.002335963455149502, 0.002335963455149502, 0.0022840531561461796, 0.014275332225913621, 0.014275332225913621, 0.014275332225913621, 0.01105689368770764, 0.0017130398671096345, 0.01033014950166113, 0.005242940199335548, 0.0038932724252491694, 0.0038932724252491694, 0.0038932724252491694, 0.0013496677740863787, 0.0013496677740863787, 0.0013496677740863787, 0.005087209302325582, 0.005087209302325582, 0.005087209302325582, 0.005087209302325582, 0.0012458471760797341, 0.0012458471760797341, 0.0012458471760797341, 0.0012458471760797341, 0.0012458471760797341, 0.0012458471760797341, 0.016455564784053155, 0.016455564784053155, 0.013911960132890365, 0.013289036544850499, 0.005450581395348837, 0.004723837209302325, 0.0006229235880398671, 0.0006229235880398671, 0.002543604651162791, 0.002543604651162791, 0.002335963455149502, 0.00010382059800664452, 0.030938538205980068, 0.030938538205980068, 0.012095099667774086, 0.004464285714285714, 0.002803156146179402, 0.002803156146179402, 0.0011420265780730898, 0.0011420265780730898, 0.0031665282392026577, 0.0024916943521594683, 0.0024916943521594683, 0.0006748338870431893, 0.0006748338870431893, 0.0075269933554817274, 0.005606312292358804, 0.0036856312292358803, 0.0036856312292358803, 0.00160921926910299, 0.00160921926910299, 0.001401578073089701, 0.001401578073089701, 0.001401578073089701, 0.0033222591362126247, 0.0033222591362126247, 0.0033222591362126247, 0.0033222591362126247, 0.0018687707641196014, 0.0014534883720930232, 0.020089285714285716, 0.0049833887043189366, 0.0038932724252491694, 0.002232142857142857, 0.002232142857142857, 0.002232142857142857, 0.0016611295681063123, 0.0016611295681063123, 0.0016611295681063123, 0.0010901162790697674, 0.0010901162790697674, 0.0010901162790697674, 0.0010901162790697674, 0.0048276578073089705, 0.0048276578073089705, 0.0048276578073089705, 0.0048276578073089705, 0.0048276578073089705, 0.0048276578073089705, 0.005346760797342193, 0.005346760797342193, 0.005346760797342193, 0.005346760797342193, 0.004568106312292359, 0.0007786544850498339, 0.0007786544850498339, 0.0049833887043189366, 0.0049833887043189366, 0.0049833887043189366, 0.004879568106312292, 0.004879568106312292, 0.00010382059800664452, 0.00010382059800664452, 0.0755813953488372, 0.06992317275747509, 0.06992317275747509, 0.06535506644518273, 0.05419435215946844, 0.05419435215946844, 0.05419435215946844, 0.009499584717607973, 0.007630813953488372, 0.007630813953488372, 0.0021283222591362127, 0.0015573089700996678, 0.011160714285714286, 0.007682724252491694, 0.007682724252491694, 0.007163621262458472, 0.00020764119601328904, 0.00020764119601328904, 0.00020764119601328904, 0.00020764119601328904, 0.003477990033222591, 0.003477990033222591, 0.0029069767441860465, 0.00046719269102990036, 0.00046719269102990036, 0.004568106312292359, 0.004568106312292359, 0.0031665282392026577, 0.0017649501661129569, 0.0017649501661129569, 0.0007267441860465116, 0.0007267441860465116, 0.0007267441860465116, 0.001401578073089701, 0.001401578073089701, 0.001401578073089701, 0.001401578073089701, 0.005658222591362126, 0.005658222591362126, 0.004256644518272425, 0.004256644518272425, 0.004256644518272425, 0.004256644518272425, 0.004256644518272425, 0.004256644518272425, 0.001401578073089701, 0.001401578073089701, 0.001401578073089701, 0.001401578073089701, 0.001401578073089701, 0.001401578073089701]}\n"
     ]
    }
   ],
   "source": [
    "s = k.to_sankey(max_rank=2, domain=\"Eukaryota\")"
   ]
  },
  {
   "cell_type": "code",
   "execution_count": 220,
   "id": "2c8725c5-5fb6-49ce-9891-9e7f033a4ecb",
   "metadata": {},
   "outputs": [
    {
     "name": "stdout",
     "output_type": "stream",
     "text": [
      "1155 14351 145\n",
      "1783270,FCB group,D1,3,10199270,33,Bacteria,2,{68336, 65842, 456828, 142182},0,[1, 131567, 2]\n"
     ]
    }
   ],
   "source": [
    "trace_ids = [1783270]\n",
    "s = k.to_source_target_df(max_rank=2, trace_ids=trace_ids)\n",
    "for i in trace_ids:\n",
    "    k.entries[i].print()\n",
    "for r in s:\n",
    "    if r[\"source\"] == 2759:\n",
    "        print(r)\n",
    "        k.entries[r[\"target\"]].print()\n",
    "        #k.entries[r[\"target\"]].print()"
   ]
  },
  {
   "cell_type": "code",
   "execution_count": 186,
   "id": "4d58e534-84f8-4a86-b00d-272b2f6c674e",
   "metadata": {},
   "outputs": [
    {
     "data": {
      "text/html": [
       "\n",
       "        <iframe\n",
       "            width=\"100%\"\n",
       "            height=\"650\"\n",
       "            src=\"http://127.0.0.1:8050/\"\n",
       "            frameborder=\"0\"\n",
       "            allowfullscreen\n",
       "            \n",
       "        ></iframe>\n",
       "        "
      ],
      "text/plain": [
       "<IPython.lib.display.IFrame at 0x16886efd0>"
      ]
     },
     "metadata": {},
     "output_type": "display_data"
    }
   ],
   "source": [
    "from dash import Dash, dcc, html, Input, Output\n",
    "import plotly.graph_objects as go\n",
    "import numpy as np\n",
    "\n",
    "app = Dash(__name__)\n",
    "\n",
    "app.layout = html.Div([\n",
    "    html.H4('Interactive plot with custom data source'),\n",
    "    dcc.Graph(id=\"graph\"),\n",
    "    html.P(\"Number of bars:\"),\n",
    "    dcc.Slider(id=\"slider\", min=2, max=10, value=4, step=1),\n",
    "])\n",
    "\n",
    "\n",
    "@app.callback(\n",
    "    Output(\"graph\", \"figure\"), \n",
    "    Input(\"slider\", \"value\"))\n",
    "def update_bar_chart(size):\n",
    "    data = np.random.normal(3, 2, size=size) # replace with your own data source\n",
    "    fig = go.Figure(\n",
    "        data=[go.Bar(y=data)],\n",
    "        layout_title_text=\"Native Plotly rendering in Dash\"\n",
    "    )\n",
    "    return fig\n",
    "\n",
    "app.run_server(debug=True)"
   ]
  },
  {
   "cell_type": "code",
   "execution_count": 9,
   "id": "607e5217-050a-4150-a2c7-fa5085c2b372",
   "metadata": {},
   "outputs": [
    {
     "data": {
      "application/vnd.jupyter.widget-view+json": {
       "model_id": "88321146463d41989df6302c004a984a",
       "version_major": 2,
       "version_minor": 0
      },
      "text/plain": [
       "FigureWidget({\n",
       "    'data': [{'alignmentgroup': 'True',\n",
       "              'hovertemplate': 'x=%{x}<br>y=%{y}<extra></extra>',\n",
       "              'legendgroup': '',\n",
       "              'marker': {'color': '#636efa', 'pattern': {'shape': ''}},\n",
       "              'name': '',\n",
       "              'offsetgroup': '',\n",
       "              'orientation': 'v',\n",
       "              'showlegend': False,\n",
       "              'textposition': 'auto',\n",
       "              'type': 'bar',\n",
       "              'uid': '7737103a-1c3f-4878-8585-90c84b49e956',\n",
       "              'x': array(['a', 'b', 'c'], dtype=object),\n",
       "              'xaxis': 'x',\n",
       "              'y': array([1, 3, 2]),\n",
       "              'yaxis': 'y'}],\n",
       "    'layout': {'barmode': 'relative',\n",
       "               'legend': {'tracegroupgap': 0},\n",
       "               'margin': {'t': 60},\n",
       "               'template': '...',\n",
       "               'xaxis': {'anchor': 'y', 'domain': [0.0, 1.0], 'title': {'text': 'x'}},\n",
       "               'yaxis': {'anchor': 'x', 'domain': [0.0, 1.0], 'title': {'text': 'y'}}}\n",
       "})"
      ]
     },
     "execution_count": 9,
     "metadata": {},
     "output_type": "execute_result"
    }
   ],
   "source": [
    "import plotly.express as px\n",
    "fig = px.bar(x=[\"a\", \"b\", \"c\"], y=[1, 3, 2])\n",
    "\n",
    "import plotly.graph_objects as go\n",
    "fig_widget = go.FigureWidget(fig)\n",
    "fig_widget"
   ]
  },
  {
   "cell_type": "code",
   "execution_count": 11,
   "id": "ae535588-c9e1-4064-81e6-b743f0fb4264",
   "metadata": {},
   "outputs": [
    {
     "name": "stdout",
     "output_type": "stream",
     "text": [
      "Retrieving notices: ...working... done\n",
      "Collecting package metadata (current_repodata.json): done\n",
      "Solving environment: done\n",
      "\n",
      "\n",
      "==> WARNING: A newer version of conda exists. <==\n",
      "  current version: 23.1.0\n",
      "  latest version: 24.5.0\n",
      "\n",
      "Please update conda by running\n",
      "\n",
      "    $ conda update -n base -c conda-forge conda\n",
      "\n",
      "Or to minimize the number of packages updated during conda update use\n",
      "\n",
      "     conda install conda=24.5.0\n",
      "\n",
      "\n",
      "\n",
      "## Package Plan ##\n",
      "\n",
      "  environment location: /opt/miniconda3\n",
      "\n",
      "  added / updated specs:\n",
      "    - python-kaleido\n",
      "\n",
      "\n",
      "The following packages will be downloaded:\n",
      "\n",
      "    package                    |            build\n",
      "    ---------------------------|-----------------\n",
      "    openssl-3.1.5              |       h87427d6_1         2.2 MB  conda-forge\n",
      "    python-kaleido-0.2.1       |   py39hecd8cb5_0          25 KB\n",
      "    ------------------------------------------------------------\n",
      "                                           Total:         2.2 MB\n",
      "\n",
      "The following NEW packages will be INSTALLED:\n",
      "\n",
      "  kaleido-core       conda-forge/osx-64::kaleido-core-0.2.1-h0d85af4_0 \n",
      "  mathjax            conda-forge/osx-64::mathjax-2.7.7-h694c41f_3 \n",
      "  python-kaleido     pkgs/main/osx-64::python-kaleido-0.2.1-py39hecd8cb5_0 \n",
      "\n",
      "The following packages will be UPDATED:\n",
      "\n",
      "  openssl                                  3.1.5-hd75f5a5_0 --> 3.1.5-h87427d6_1 \n",
      "\n",
      "\n",
      "\n",
      "Downloading and Extracting Packages\n",
      "openssl-3.1.5        | 2.2 MB    |                                       |   0% \n",
      "python-kaleido-0.2.1 | 25 KB     |                                       |   0% \u001b[A\n",
      "openssl-3.1.5        | 2.2 MB    | 2                                     |   1% \u001b[A\n",
      "                                                                                \u001b[A\n",
      "                                                                                \u001b[A\n",
      "Preparing transaction: done\n",
      "Verifying transaction: done\n",
      "Executing transaction: done\n",
      "\n",
      "Note: you may need to restart the kernel to use updated packages.\n"
     ]
    }
   ],
   "source": [
    "conda install -c conda-forge python-kaleido"
   ]
  },
  {
   "cell_type": "code",
   "execution_count": 9,
   "id": "8e62fe42-8ed2-45fd-8608-643d3418add7",
   "metadata": {},
   "outputs": [
    {
     "name": "stdout",
     "output_type": "stream",
     "text": [
      "\u001b[31mERROR: Could not find a version that satisfies the requirement jupyterlab-plotly (from versions: none)\u001b[0m\u001b[31m\n",
      "\u001b[0m\u001b[31mERROR: No matching distribution found for jupyterlab-plotly\u001b[0m\u001b[31m\n",
      "\u001b[0mNote: you may need to restart the kernel to use updated packages.\n"
     ]
    }
   ],
   "source": [
    "pip install --upgrade jupyterlab-plotly"
   ]
  },
  {
   "cell_type": "code",
   "execution_count": 10,
   "id": "d97c2d81-e1dc-446d-bdb7-694b9dcd22f6",
   "metadata": {},
   "outputs": [
    {
     "data": {
      "application/vnd.plotly.v1+json": {
       "config": {
        "plotlyServerURL": "https://plot.ly"
       },
       "data": [
        {
         "type": "bar",
         "y": [
          2,
          1,
          3
         ]
        }
       ],
       "layout": {
        "template": {
         "data": {
          "bar": [
           {
            "error_x": {
             "color": "#2a3f5f"
            },
            "error_y": {
             "color": "#2a3f5f"
            },
            "marker": {
             "line": {
              "color": "#E5ECF6",
              "width": 0.5
             },
             "pattern": {
              "fillmode": "overlay",
              "size": 10,
              "solidity": 0.2
             }
            },
            "type": "bar"
           }
          ],
          "barpolar": [
           {
            "marker": {
             "line": {
              "color": "#E5ECF6",
              "width": 0.5
             },
             "pattern": {
              "fillmode": "overlay",
              "size": 10,
              "solidity": 0.2
             }
            },
            "type": "barpolar"
           }
          ],
          "carpet": [
           {
            "aaxis": {
             "endlinecolor": "#2a3f5f",
             "gridcolor": "white",
             "linecolor": "white",
             "minorgridcolor": "white",
             "startlinecolor": "#2a3f5f"
            },
            "baxis": {
             "endlinecolor": "#2a3f5f",
             "gridcolor": "white",
             "linecolor": "white",
             "minorgridcolor": "white",
             "startlinecolor": "#2a3f5f"
            },
            "type": "carpet"
           }
          ],
          "choropleth": [
           {
            "colorbar": {
             "outlinewidth": 0,
             "ticks": ""
            },
            "type": "choropleth"
           }
          ],
          "contour": [
           {
            "colorbar": {
             "outlinewidth": 0,
             "ticks": ""
            },
            "colorscale": [
             [
              0,
              "#0d0887"
             ],
             [
              0.1111111111111111,
              "#46039f"
             ],
             [
              0.2222222222222222,
              "#7201a8"
             ],
             [
              0.3333333333333333,
              "#9c179e"
             ],
             [
              0.4444444444444444,
              "#bd3786"
             ],
             [
              0.5555555555555556,
              "#d8576b"
             ],
             [
              0.6666666666666666,
              "#ed7953"
             ],
             [
              0.7777777777777778,
              "#fb9f3a"
             ],
             [
              0.8888888888888888,
              "#fdca26"
             ],
             [
              1,
              "#f0f921"
             ]
            ],
            "type": "contour"
           }
          ],
          "contourcarpet": [
           {
            "colorbar": {
             "outlinewidth": 0,
             "ticks": ""
            },
            "type": "contourcarpet"
           }
          ],
          "heatmap": [
           {
            "colorbar": {
             "outlinewidth": 0,
             "ticks": ""
            },
            "colorscale": [
             [
              0,
              "#0d0887"
             ],
             [
              0.1111111111111111,
              "#46039f"
             ],
             [
              0.2222222222222222,
              "#7201a8"
             ],
             [
              0.3333333333333333,
              "#9c179e"
             ],
             [
              0.4444444444444444,
              "#bd3786"
             ],
             [
              0.5555555555555556,
              "#d8576b"
             ],
             [
              0.6666666666666666,
              "#ed7953"
             ],
             [
              0.7777777777777778,
              "#fb9f3a"
             ],
             [
              0.8888888888888888,
              "#fdca26"
             ],
             [
              1,
              "#f0f921"
             ]
            ],
            "type": "heatmap"
           }
          ],
          "heatmapgl": [
           {
            "colorbar": {
             "outlinewidth": 0,
             "ticks": ""
            },
            "colorscale": [
             [
              0,
              "#0d0887"
             ],
             [
              0.1111111111111111,
              "#46039f"
             ],
             [
              0.2222222222222222,
              "#7201a8"
             ],
             [
              0.3333333333333333,
              "#9c179e"
             ],
             [
              0.4444444444444444,
              "#bd3786"
             ],
             [
              0.5555555555555556,
              "#d8576b"
             ],
             [
              0.6666666666666666,
              "#ed7953"
             ],
             [
              0.7777777777777778,
              "#fb9f3a"
             ],
             [
              0.8888888888888888,
              "#fdca26"
             ],
             [
              1,
              "#f0f921"
             ]
            ],
            "type": "heatmapgl"
           }
          ],
          "histogram": [
           {
            "marker": {
             "pattern": {
              "fillmode": "overlay",
              "size": 10,
              "solidity": 0.2
             }
            },
            "type": "histogram"
           }
          ],
          "histogram2d": [
           {
            "colorbar": {
             "outlinewidth": 0,
             "ticks": ""
            },
            "colorscale": [
             [
              0,
              "#0d0887"
             ],
             [
              0.1111111111111111,
              "#46039f"
             ],
             [
              0.2222222222222222,
              "#7201a8"
             ],
             [
              0.3333333333333333,
              "#9c179e"
             ],
             [
              0.4444444444444444,
              "#bd3786"
             ],
             [
              0.5555555555555556,
              "#d8576b"
             ],
             [
              0.6666666666666666,
              "#ed7953"
             ],
             [
              0.7777777777777778,
              "#fb9f3a"
             ],
             [
              0.8888888888888888,
              "#fdca26"
             ],
             [
              1,
              "#f0f921"
             ]
            ],
            "type": "histogram2d"
           }
          ],
          "histogram2dcontour": [
           {
            "colorbar": {
             "outlinewidth": 0,
             "ticks": ""
            },
            "colorscale": [
             [
              0,
              "#0d0887"
             ],
             [
              0.1111111111111111,
              "#46039f"
             ],
             [
              0.2222222222222222,
              "#7201a8"
             ],
             [
              0.3333333333333333,
              "#9c179e"
             ],
             [
              0.4444444444444444,
              "#bd3786"
             ],
             [
              0.5555555555555556,
              "#d8576b"
             ],
             [
              0.6666666666666666,
              "#ed7953"
             ],
             [
              0.7777777777777778,
              "#fb9f3a"
             ],
             [
              0.8888888888888888,
              "#fdca26"
             ],
             [
              1,
              "#f0f921"
             ]
            ],
            "type": "histogram2dcontour"
           }
          ],
          "mesh3d": [
           {
            "colorbar": {
             "outlinewidth": 0,
             "ticks": ""
            },
            "type": "mesh3d"
           }
          ],
          "parcoords": [
           {
            "line": {
             "colorbar": {
              "outlinewidth": 0,
              "ticks": ""
             }
            },
            "type": "parcoords"
           }
          ],
          "pie": [
           {
            "automargin": true,
            "type": "pie"
           }
          ],
          "scatter": [
           {
            "fillpattern": {
             "fillmode": "overlay",
             "size": 10,
             "solidity": 0.2
            },
            "type": "scatter"
           }
          ],
          "scatter3d": [
           {
            "line": {
             "colorbar": {
              "outlinewidth": 0,
              "ticks": ""
             }
            },
            "marker": {
             "colorbar": {
              "outlinewidth": 0,
              "ticks": ""
             }
            },
            "type": "scatter3d"
           }
          ],
          "scattercarpet": [
           {
            "marker": {
             "colorbar": {
              "outlinewidth": 0,
              "ticks": ""
             }
            },
            "type": "scattercarpet"
           }
          ],
          "scattergeo": [
           {
            "marker": {
             "colorbar": {
              "outlinewidth": 0,
              "ticks": ""
             }
            },
            "type": "scattergeo"
           }
          ],
          "scattergl": [
           {
            "marker": {
             "colorbar": {
              "outlinewidth": 0,
              "ticks": ""
             }
            },
            "type": "scattergl"
           }
          ],
          "scattermapbox": [
           {
            "marker": {
             "colorbar": {
              "outlinewidth": 0,
              "ticks": ""
             }
            },
            "type": "scattermapbox"
           }
          ],
          "scatterpolar": [
           {
            "marker": {
             "colorbar": {
              "outlinewidth": 0,
              "ticks": ""
             }
            },
            "type": "scatterpolar"
           }
          ],
          "scatterpolargl": [
           {
            "marker": {
             "colorbar": {
              "outlinewidth": 0,
              "ticks": ""
             }
            },
            "type": "scatterpolargl"
           }
          ],
          "scatterternary": [
           {
            "marker": {
             "colorbar": {
              "outlinewidth": 0,
              "ticks": ""
             }
            },
            "type": "scatterternary"
           }
          ],
          "surface": [
           {
            "colorbar": {
             "outlinewidth": 0,
             "ticks": ""
            },
            "colorscale": [
             [
              0,
              "#0d0887"
             ],
             [
              0.1111111111111111,
              "#46039f"
             ],
             [
              0.2222222222222222,
              "#7201a8"
             ],
             [
              0.3333333333333333,
              "#9c179e"
             ],
             [
              0.4444444444444444,
              "#bd3786"
             ],
             [
              0.5555555555555556,
              "#d8576b"
             ],
             [
              0.6666666666666666,
              "#ed7953"
             ],
             [
              0.7777777777777778,
              "#fb9f3a"
             ],
             [
              0.8888888888888888,
              "#fdca26"
             ],
             [
              1,
              "#f0f921"
             ]
            ],
            "type": "surface"
           }
          ],
          "table": [
           {
            "cells": {
             "fill": {
              "color": "#EBF0F8"
             },
             "line": {
              "color": "white"
             }
            },
            "header": {
             "fill": {
              "color": "#C8D4E3"
             },
             "line": {
              "color": "white"
             }
            },
            "type": "table"
           }
          ]
         },
         "layout": {
          "annotationdefaults": {
           "arrowcolor": "#2a3f5f",
           "arrowhead": 0,
           "arrowwidth": 1
          },
          "autotypenumbers": "strict",
          "coloraxis": {
           "colorbar": {
            "outlinewidth": 0,
            "ticks": ""
           }
          },
          "colorscale": {
           "diverging": [
            [
             0,
             "#8e0152"
            ],
            [
             0.1,
             "#c51b7d"
            ],
            [
             0.2,
             "#de77ae"
            ],
            [
             0.3,
             "#f1b6da"
            ],
            [
             0.4,
             "#fde0ef"
            ],
            [
             0.5,
             "#f7f7f7"
            ],
            [
             0.6,
             "#e6f5d0"
            ],
            [
             0.7,
             "#b8e186"
            ],
            [
             0.8,
             "#7fbc41"
            ],
            [
             0.9,
             "#4d9221"
            ],
            [
             1,
             "#276419"
            ]
           ],
           "sequential": [
            [
             0,
             "#0d0887"
            ],
            [
             0.1111111111111111,
             "#46039f"
            ],
            [
             0.2222222222222222,
             "#7201a8"
            ],
            [
             0.3333333333333333,
             "#9c179e"
            ],
            [
             0.4444444444444444,
             "#bd3786"
            ],
            [
             0.5555555555555556,
             "#d8576b"
            ],
            [
             0.6666666666666666,
             "#ed7953"
            ],
            [
             0.7777777777777778,
             "#fb9f3a"
            ],
            [
             0.8888888888888888,
             "#fdca26"
            ],
            [
             1,
             "#f0f921"
            ]
           ],
           "sequentialminus": [
            [
             0,
             "#0d0887"
            ],
            [
             0.1111111111111111,
             "#46039f"
            ],
            [
             0.2222222222222222,
             "#7201a8"
            ],
            [
             0.3333333333333333,
             "#9c179e"
            ],
            [
             0.4444444444444444,
             "#bd3786"
            ],
            [
             0.5555555555555556,
             "#d8576b"
            ],
            [
             0.6666666666666666,
             "#ed7953"
            ],
            [
             0.7777777777777778,
             "#fb9f3a"
            ],
            [
             0.8888888888888888,
             "#fdca26"
            ],
            [
             1,
             "#f0f921"
            ]
           ]
          },
          "colorway": [
           "#636efa",
           "#EF553B",
           "#00cc96",
           "#ab63fa",
           "#FFA15A",
           "#19d3f3",
           "#FF6692",
           "#B6E880",
           "#FF97FF",
           "#FECB52"
          ],
          "font": {
           "color": "#2a3f5f"
          },
          "geo": {
           "bgcolor": "white",
           "lakecolor": "white",
           "landcolor": "#E5ECF6",
           "showlakes": true,
           "showland": true,
           "subunitcolor": "white"
          },
          "hoverlabel": {
           "align": "left"
          },
          "hovermode": "closest",
          "mapbox": {
           "style": "light"
          },
          "paper_bgcolor": "white",
          "plot_bgcolor": "#E5ECF6",
          "polar": {
           "angularaxis": {
            "gridcolor": "white",
            "linecolor": "white",
            "ticks": ""
           },
           "bgcolor": "#E5ECF6",
           "radialaxis": {
            "gridcolor": "white",
            "linecolor": "white",
            "ticks": ""
           }
          },
          "scene": {
           "xaxis": {
            "backgroundcolor": "#E5ECF6",
            "gridcolor": "white",
            "gridwidth": 2,
            "linecolor": "white",
            "showbackground": true,
            "ticks": "",
            "zerolinecolor": "white"
           },
           "yaxis": {
            "backgroundcolor": "#E5ECF6",
            "gridcolor": "white",
            "gridwidth": 2,
            "linecolor": "white",
            "showbackground": true,
            "ticks": "",
            "zerolinecolor": "white"
           },
           "zaxis": {
            "backgroundcolor": "#E5ECF6",
            "gridcolor": "white",
            "gridwidth": 2,
            "linecolor": "white",
            "showbackground": true,
            "ticks": "",
            "zerolinecolor": "white"
           }
          },
          "shapedefaults": {
           "line": {
            "color": "#2a3f5f"
           }
          },
          "ternary": {
           "aaxis": {
            "gridcolor": "white",
            "linecolor": "white",
            "ticks": ""
           },
           "baxis": {
            "gridcolor": "white",
            "linecolor": "white",
            "ticks": ""
           },
           "bgcolor": "#E5ECF6",
           "caxis": {
            "gridcolor": "white",
            "linecolor": "white",
            "ticks": ""
           }
          },
          "title": {
           "x": 0.05
          },
          "xaxis": {
           "automargin": true,
           "gridcolor": "white",
           "linecolor": "white",
           "ticks": "",
           "title": {
            "standoff": 15
           },
           "zerolinecolor": "white",
           "zerolinewidth": 2
          },
          "yaxis": {
           "automargin": true,
           "gridcolor": "white",
           "linecolor": "white",
           "ticks": "",
           "title": {
            "standoff": 15
           },
           "zerolinecolor": "white",
           "zerolinewidth": 2
          }
         }
        },
        "title": {
         "text": "A Figure Displayed with fig.show()"
        }
       }
      },
      "text/html": [
       "<div>                            <div id=\"72c909a4-5a75-4450-8f08-4a6bcb5f49a0\" class=\"plotly-graph-div\" style=\"height:525px; width:100%;\"></div>            <script type=\"text/javascript\">                require([\"plotly\"], function(Plotly) {                    window.PLOTLYENV=window.PLOTLYENV || {};                                    if (document.getElementById(\"72c909a4-5a75-4450-8f08-4a6bcb5f49a0\")) {                    Plotly.newPlot(                        \"72c909a4-5a75-4450-8f08-4a6bcb5f49a0\",                        [{\"y\":[2,1,3],\"type\":\"bar\"}],                        {\"template\":{\"data\":{\"histogram2dcontour\":[{\"type\":\"histogram2dcontour\",\"colorbar\":{\"outlinewidth\":0,\"ticks\":\"\"},\"colorscale\":[[0.0,\"#0d0887\"],[0.1111111111111111,\"#46039f\"],[0.2222222222222222,\"#7201a8\"],[0.3333333333333333,\"#9c179e\"],[0.4444444444444444,\"#bd3786\"],[0.5555555555555556,\"#d8576b\"],[0.6666666666666666,\"#ed7953\"],[0.7777777777777778,\"#fb9f3a\"],[0.8888888888888888,\"#fdca26\"],[1.0,\"#f0f921\"]]}],\"choropleth\":[{\"type\":\"choropleth\",\"colorbar\":{\"outlinewidth\":0,\"ticks\":\"\"}}],\"histogram2d\":[{\"type\":\"histogram2d\",\"colorbar\":{\"outlinewidth\":0,\"ticks\":\"\"},\"colorscale\":[[0.0,\"#0d0887\"],[0.1111111111111111,\"#46039f\"],[0.2222222222222222,\"#7201a8\"],[0.3333333333333333,\"#9c179e\"],[0.4444444444444444,\"#bd3786\"],[0.5555555555555556,\"#d8576b\"],[0.6666666666666666,\"#ed7953\"],[0.7777777777777778,\"#fb9f3a\"],[0.8888888888888888,\"#fdca26\"],[1.0,\"#f0f921\"]]}],\"heatmap\":[{\"type\":\"heatmap\",\"colorbar\":{\"outlinewidth\":0,\"ticks\":\"\"},\"colorscale\":[[0.0,\"#0d0887\"],[0.1111111111111111,\"#46039f\"],[0.2222222222222222,\"#7201a8\"],[0.3333333333333333,\"#9c179e\"],[0.4444444444444444,\"#bd3786\"],[0.5555555555555556,\"#d8576b\"],[0.6666666666666666,\"#ed7953\"],[0.7777777777777778,\"#fb9f3a\"],[0.8888888888888888,\"#fdca26\"],[1.0,\"#f0f921\"]]}],\"heatmapgl\":[{\"type\":\"heatmapgl\",\"colorbar\":{\"outlinewidth\":0,\"ticks\":\"\"},\"colorscale\":[[0.0,\"#0d0887\"],[0.1111111111111111,\"#46039f\"],[0.2222222222222222,\"#7201a8\"],[0.3333333333333333,\"#9c179e\"],[0.4444444444444444,\"#bd3786\"],[0.5555555555555556,\"#d8576b\"],[0.6666666666666666,\"#ed7953\"],[0.7777777777777778,\"#fb9f3a\"],[0.8888888888888888,\"#fdca26\"],[1.0,\"#f0f921\"]]}],\"contourcarpet\":[{\"type\":\"contourcarpet\",\"colorbar\":{\"outlinewidth\":0,\"ticks\":\"\"}}],\"contour\":[{\"type\":\"contour\",\"colorbar\":{\"outlinewidth\":0,\"ticks\":\"\"},\"colorscale\":[[0.0,\"#0d0887\"],[0.1111111111111111,\"#46039f\"],[0.2222222222222222,\"#7201a8\"],[0.3333333333333333,\"#9c179e\"],[0.4444444444444444,\"#bd3786\"],[0.5555555555555556,\"#d8576b\"],[0.6666666666666666,\"#ed7953\"],[0.7777777777777778,\"#fb9f3a\"],[0.8888888888888888,\"#fdca26\"],[1.0,\"#f0f921\"]]}],\"surface\":[{\"type\":\"surface\",\"colorbar\":{\"outlinewidth\":0,\"ticks\":\"\"},\"colorscale\":[[0.0,\"#0d0887\"],[0.1111111111111111,\"#46039f\"],[0.2222222222222222,\"#7201a8\"],[0.3333333333333333,\"#9c179e\"],[0.4444444444444444,\"#bd3786\"],[0.5555555555555556,\"#d8576b\"],[0.6666666666666666,\"#ed7953\"],[0.7777777777777778,\"#fb9f3a\"],[0.8888888888888888,\"#fdca26\"],[1.0,\"#f0f921\"]]}],\"mesh3d\":[{\"type\":\"mesh3d\",\"colorbar\":{\"outlinewidth\":0,\"ticks\":\"\"}}],\"scatter\":[{\"fillpattern\":{\"fillmode\":\"overlay\",\"size\":10,\"solidity\":0.2},\"type\":\"scatter\"}],\"parcoords\":[{\"type\":\"parcoords\",\"line\":{\"colorbar\":{\"outlinewidth\":0,\"ticks\":\"\"}}}],\"scatterpolargl\":[{\"type\":\"scatterpolargl\",\"marker\":{\"colorbar\":{\"outlinewidth\":0,\"ticks\":\"\"}}}],\"bar\":[{\"error_x\":{\"color\":\"#2a3f5f\"},\"error_y\":{\"color\":\"#2a3f5f\"},\"marker\":{\"line\":{\"color\":\"#E5ECF6\",\"width\":0.5},\"pattern\":{\"fillmode\":\"overlay\",\"size\":10,\"solidity\":0.2}},\"type\":\"bar\"}],\"scattergeo\":[{\"type\":\"scattergeo\",\"marker\":{\"colorbar\":{\"outlinewidth\":0,\"ticks\":\"\"}}}],\"scatterpolar\":[{\"type\":\"scatterpolar\",\"marker\":{\"colorbar\":{\"outlinewidth\":0,\"ticks\":\"\"}}}],\"histogram\":[{\"marker\":{\"pattern\":{\"fillmode\":\"overlay\",\"size\":10,\"solidity\":0.2}},\"type\":\"histogram\"}],\"scattergl\":[{\"type\":\"scattergl\",\"marker\":{\"colorbar\":{\"outlinewidth\":0,\"ticks\":\"\"}}}],\"scatter3d\":[{\"type\":\"scatter3d\",\"line\":{\"colorbar\":{\"outlinewidth\":0,\"ticks\":\"\"}},\"marker\":{\"colorbar\":{\"outlinewidth\":0,\"ticks\":\"\"}}}],\"scattermapbox\":[{\"type\":\"scattermapbox\",\"marker\":{\"colorbar\":{\"outlinewidth\":0,\"ticks\":\"\"}}}],\"scatterternary\":[{\"type\":\"scatterternary\",\"marker\":{\"colorbar\":{\"outlinewidth\":0,\"ticks\":\"\"}}}],\"scattercarpet\":[{\"type\":\"scattercarpet\",\"marker\":{\"colorbar\":{\"outlinewidth\":0,\"ticks\":\"\"}}}],\"carpet\":[{\"aaxis\":{\"endlinecolor\":\"#2a3f5f\",\"gridcolor\":\"white\",\"linecolor\":\"white\",\"minorgridcolor\":\"white\",\"startlinecolor\":\"#2a3f5f\"},\"baxis\":{\"endlinecolor\":\"#2a3f5f\",\"gridcolor\":\"white\",\"linecolor\":\"white\",\"minorgridcolor\":\"white\",\"startlinecolor\":\"#2a3f5f\"},\"type\":\"carpet\"}],\"table\":[{\"cells\":{\"fill\":{\"color\":\"#EBF0F8\"},\"line\":{\"color\":\"white\"}},\"header\":{\"fill\":{\"color\":\"#C8D4E3\"},\"line\":{\"color\":\"white\"}},\"type\":\"table\"}],\"barpolar\":[{\"marker\":{\"line\":{\"color\":\"#E5ECF6\",\"width\":0.5},\"pattern\":{\"fillmode\":\"overlay\",\"size\":10,\"solidity\":0.2}},\"type\":\"barpolar\"}],\"pie\":[{\"automargin\":true,\"type\":\"pie\"}]},\"layout\":{\"autotypenumbers\":\"strict\",\"colorway\":[\"#636efa\",\"#EF553B\",\"#00cc96\",\"#ab63fa\",\"#FFA15A\",\"#19d3f3\",\"#FF6692\",\"#B6E880\",\"#FF97FF\",\"#FECB52\"],\"font\":{\"color\":\"#2a3f5f\"},\"hovermode\":\"closest\",\"hoverlabel\":{\"align\":\"left\"},\"paper_bgcolor\":\"white\",\"plot_bgcolor\":\"#E5ECF6\",\"polar\":{\"bgcolor\":\"#E5ECF6\",\"angularaxis\":{\"gridcolor\":\"white\",\"linecolor\":\"white\",\"ticks\":\"\"},\"radialaxis\":{\"gridcolor\":\"white\",\"linecolor\":\"white\",\"ticks\":\"\"}},\"ternary\":{\"bgcolor\":\"#E5ECF6\",\"aaxis\":{\"gridcolor\":\"white\",\"linecolor\":\"white\",\"ticks\":\"\"},\"baxis\":{\"gridcolor\":\"white\",\"linecolor\":\"white\",\"ticks\":\"\"},\"caxis\":{\"gridcolor\":\"white\",\"linecolor\":\"white\",\"ticks\":\"\"}},\"coloraxis\":{\"colorbar\":{\"outlinewidth\":0,\"ticks\":\"\"}},\"colorscale\":{\"sequential\":[[0.0,\"#0d0887\"],[0.1111111111111111,\"#46039f\"],[0.2222222222222222,\"#7201a8\"],[0.3333333333333333,\"#9c179e\"],[0.4444444444444444,\"#bd3786\"],[0.5555555555555556,\"#d8576b\"],[0.6666666666666666,\"#ed7953\"],[0.7777777777777778,\"#fb9f3a\"],[0.8888888888888888,\"#fdca26\"],[1.0,\"#f0f921\"]],\"sequentialminus\":[[0.0,\"#0d0887\"],[0.1111111111111111,\"#46039f\"],[0.2222222222222222,\"#7201a8\"],[0.3333333333333333,\"#9c179e\"],[0.4444444444444444,\"#bd3786\"],[0.5555555555555556,\"#d8576b\"],[0.6666666666666666,\"#ed7953\"],[0.7777777777777778,\"#fb9f3a\"],[0.8888888888888888,\"#fdca26\"],[1.0,\"#f0f921\"]],\"diverging\":[[0,\"#8e0152\"],[0.1,\"#c51b7d\"],[0.2,\"#de77ae\"],[0.3,\"#f1b6da\"],[0.4,\"#fde0ef\"],[0.5,\"#f7f7f7\"],[0.6,\"#e6f5d0\"],[0.7,\"#b8e186\"],[0.8,\"#7fbc41\"],[0.9,\"#4d9221\"],[1,\"#276419\"]]},\"xaxis\":{\"gridcolor\":\"white\",\"linecolor\":\"white\",\"ticks\":\"\",\"title\":{\"standoff\":15},\"zerolinecolor\":\"white\",\"automargin\":true,\"zerolinewidth\":2},\"yaxis\":{\"gridcolor\":\"white\",\"linecolor\":\"white\",\"ticks\":\"\",\"title\":{\"standoff\":15},\"zerolinecolor\":\"white\",\"automargin\":true,\"zerolinewidth\":2},\"scene\":{\"xaxis\":{\"backgroundcolor\":\"#E5ECF6\",\"gridcolor\":\"white\",\"linecolor\":\"white\",\"showbackground\":true,\"ticks\":\"\",\"zerolinecolor\":\"white\",\"gridwidth\":2},\"yaxis\":{\"backgroundcolor\":\"#E5ECF6\",\"gridcolor\":\"white\",\"linecolor\":\"white\",\"showbackground\":true,\"ticks\":\"\",\"zerolinecolor\":\"white\",\"gridwidth\":2},\"zaxis\":{\"backgroundcolor\":\"#E5ECF6\",\"gridcolor\":\"white\",\"linecolor\":\"white\",\"showbackground\":true,\"ticks\":\"\",\"zerolinecolor\":\"white\",\"gridwidth\":2}},\"shapedefaults\":{\"line\":{\"color\":\"#2a3f5f\"}},\"annotationdefaults\":{\"arrowcolor\":\"#2a3f5f\",\"arrowhead\":0,\"arrowwidth\":1},\"geo\":{\"bgcolor\":\"white\",\"landcolor\":\"#E5ECF6\",\"subunitcolor\":\"white\",\"showland\":true,\"showlakes\":true,\"lakecolor\":\"white\"},\"title\":{\"x\":0.05},\"mapbox\":{\"style\":\"light\"}}},\"title\":{\"text\":\"A Figure Displayed with fig.show()\"}},                        {\"responsive\": true}                    ).then(function(){\n",
       "                            \n",
       "var gd = document.getElementById('72c909a4-5a75-4450-8f08-4a6bcb5f49a0');\n",
       "var x = new MutationObserver(function (mutations, observer) {{\n",
       "        var display = window.getComputedStyle(gd).display;\n",
       "        if (!display || display === 'none') {{\n",
       "            console.log([gd, 'removed!']);\n",
       "            Plotly.purge(gd);\n",
       "            observer.disconnect();\n",
       "        }}\n",
       "}});\n",
       "\n",
       "// Listen for the removal of the full notebook cells\n",
       "var notebookContainer = gd.closest('#notebook-container');\n",
       "if (notebookContainer) {{\n",
       "    x.observe(notebookContainer, {childList: true});\n",
       "}}\n",
       "\n",
       "// Listen for the clearing of the current output cell\n",
       "var outputEl = gd.closest('.output');\n",
       "if (outputEl) {{\n",
       "    x.observe(outputEl, {childList: true});\n",
       "}}\n",
       "\n",
       "                        })                };                });            </script>        </div>"
      ]
     },
     "metadata": {},
     "output_type": "display_data"
    }
   ],
   "source": [
    "import plotly.graph_objects as go\n",
    "fig = go.Figure(\n",
    "    data=[go.Bar(y=[2, 1, 3])],\n",
    "    layout_title_text=\"A Figure Displayed with fig.show()\"\n",
    ")\n",
    "fig.show()"
   ]
  },
  {
   "cell_type": "code",
   "execution_count": 11,
   "id": "6f2f1f23-6c47-4e6d-aab2-749a5e6bf91e",
   "metadata": {},
   "outputs": [
    {
     "name": "stdout",
     "output_type": "stream",
     "text": [
      "Requirement already satisfied: jupyterlab>=3 in /opt/miniconda3/lib/python3.9/site-packages (4.1.2)\n",
      "Requirement already satisfied: async-lru>=1.0.0 in /opt/miniconda3/lib/python3.9/site-packages (from jupyterlab>=3) (2.0.4)\n",
      "Requirement already satisfied: httpx>=0.25.0 in /opt/miniconda3/lib/python3.9/site-packages (from jupyterlab>=3) (0.27.0)\n",
      "Requirement already satisfied: importlib-metadata>=4.8.3 in /opt/miniconda3/lib/python3.9/site-packages (from jupyterlab>=3) (6.7.0)\n",
      "Requirement already satisfied: ipykernel in /opt/miniconda3/lib/python3.9/site-packages (from jupyterlab>=3) (6.29.2)\n",
      "Requirement already satisfied: jinja2>=3.0.3 in /opt/miniconda3/lib/python3.9/site-packages (from jupyterlab>=3) (3.1.3)\n",
      "Requirement already satisfied: jupyter-core in /opt/miniconda3/lib/python3.9/site-packages (from jupyterlab>=3) (5.7.1)\n",
      "Requirement already satisfied: jupyter-lsp>=2.0.0 in /opt/miniconda3/lib/python3.9/site-packages (from jupyterlab>=3) (2.2.2)\n",
      "Requirement already satisfied: jupyter-server<3,>=2.4.0 in /opt/miniconda3/lib/python3.9/site-packages (from jupyterlab>=3) (2.12.5)\n",
      "Requirement already satisfied: jupyterlab-server<3,>=2.19.0 in /opt/miniconda3/lib/python3.9/site-packages (from jupyterlab>=3) (2.25.3)\n",
      "Requirement already satisfied: notebook-shim>=0.2 in /opt/miniconda3/lib/python3.9/site-packages (from jupyterlab>=3) (0.2.4)\n",
      "Requirement already satisfied: packaging in /opt/miniconda3/lib/python3.9/site-packages (from jupyterlab>=3) (23.1)\n",
      "Requirement already satisfied: tomli in /opt/miniconda3/lib/python3.9/site-packages (from jupyterlab>=3) (2.0.1)\n",
      "Requirement already satisfied: tornado>=6.2.0 in /opt/miniconda3/lib/python3.9/site-packages (from jupyterlab>=3) (6.4)\n",
      "Requirement already satisfied: traitlets in /opt/miniconda3/lib/python3.9/site-packages (from jupyterlab>=3) (5.14.1)\n",
      "Requirement already satisfied: typing-extensions>=4.0.0 in /opt/miniconda3/lib/python3.9/site-packages (from async-lru>=1.0.0->jupyterlab>=3) (4.10.0)\n",
      "Requirement already satisfied: anyio in /opt/miniconda3/lib/python3.9/site-packages (from httpx>=0.25.0->jupyterlab>=3) (4.3.0)\n",
      "Requirement already satisfied: certifi in /opt/miniconda3/lib/python3.9/site-packages (from httpx>=0.25.0->jupyterlab>=3) (2024.2.2)\n",
      "Requirement already satisfied: httpcore==1.* in /opt/miniconda3/lib/python3.9/site-packages (from httpx>=0.25.0->jupyterlab>=3) (1.0.4)\n",
      "Requirement already satisfied: idna in /opt/miniconda3/lib/python3.9/site-packages (from httpx>=0.25.0->jupyterlab>=3) (3.6)\n",
      "Requirement already satisfied: sniffio in /opt/miniconda3/lib/python3.9/site-packages (from httpx>=0.25.0->jupyterlab>=3) (1.3.1)\n",
      "Requirement already satisfied: h11<0.15,>=0.13 in /opt/miniconda3/lib/python3.9/site-packages (from httpcore==1.*->httpx>=0.25.0->jupyterlab>=3) (0.14.0)\n",
      "Requirement already satisfied: zipp>=0.5 in /opt/miniconda3/lib/python3.9/site-packages (from importlib-metadata>=4.8.3->jupyterlab>=3) (3.15.0)\n",
      "Requirement already satisfied: MarkupSafe>=2.0 in /opt/miniconda3/lib/python3.9/site-packages (from jinja2>=3.0.3->jupyterlab>=3) (2.1.3)\n",
      "Requirement already satisfied: argon2-cffi in /opt/miniconda3/lib/python3.9/site-packages (from jupyter-server<3,>=2.4.0->jupyterlab>=3) (23.1.0)\n",
      "Requirement already satisfied: jupyter-client>=7.4.4 in /opt/miniconda3/lib/python3.9/site-packages (from jupyter-server<3,>=2.4.0->jupyterlab>=3) (8.6.0)\n",
      "Requirement already satisfied: jupyter-events>=0.9.0 in /opt/miniconda3/lib/python3.9/site-packages (from jupyter-server<3,>=2.4.0->jupyterlab>=3) (0.9.0)\n",
      "Requirement already satisfied: jupyter-server-terminals in /opt/miniconda3/lib/python3.9/site-packages (from jupyter-server<3,>=2.4.0->jupyterlab>=3) (0.5.2)\n",
      "Requirement already satisfied: nbconvert>=6.4.4 in /opt/miniconda3/lib/python3.9/site-packages (from jupyter-server<3,>=2.4.0->jupyterlab>=3) (7.16.1)\n",
      "Requirement already satisfied: nbformat>=5.3.0 in /opt/miniconda3/lib/python3.9/site-packages (from jupyter-server<3,>=2.4.0->jupyterlab>=3) (5.9.2)\n",
      "Requirement already satisfied: overrides in /opt/miniconda3/lib/python3.9/site-packages (from jupyter-server<3,>=2.4.0->jupyterlab>=3) (7.7.0)\n",
      "Requirement already satisfied: prometheus-client in /opt/miniconda3/lib/python3.9/site-packages (from jupyter-server<3,>=2.4.0->jupyterlab>=3) (0.20.0)\n",
      "Requirement already satisfied: pyzmq>=24 in /opt/miniconda3/lib/python3.9/site-packages (from jupyter-server<3,>=2.4.0->jupyterlab>=3) (25.1.2)\n",
      "Requirement already satisfied: send2trash>=1.8.2 in /opt/miniconda3/lib/python3.9/site-packages (from jupyter-server<3,>=2.4.0->jupyterlab>=3) (1.8.2)\n",
      "Requirement already satisfied: terminado>=0.8.3 in /opt/miniconda3/lib/python3.9/site-packages (from jupyter-server<3,>=2.4.0->jupyterlab>=3) (0.18.0)\n",
      "Requirement already satisfied: websocket-client in /opt/miniconda3/lib/python3.9/site-packages (from jupyter-server<3,>=2.4.0->jupyterlab>=3) (1.7.0)\n",
      "Requirement already satisfied: platformdirs>=2.5 in /opt/miniconda3/lib/python3.9/site-packages (from jupyter-core->jupyterlab>=3) (4.2.0)\n",
      "Requirement already satisfied: babel>=2.10 in /opt/miniconda3/lib/python3.9/site-packages (from jupyterlab-server<3,>=2.19.0->jupyterlab>=3) (2.14.0)\n",
      "Requirement already satisfied: json5>=0.9.0 in /opt/miniconda3/lib/python3.9/site-packages (from jupyterlab-server<3,>=2.19.0->jupyterlab>=3) (0.9.17)\n",
      "Requirement already satisfied: jsonschema>=4.18.0 in /opt/miniconda3/lib/python3.9/site-packages (from jupyterlab-server<3,>=2.19.0->jupyterlab>=3) (4.21.1)\n",
      "Requirement already satisfied: requests>=2.31 in /opt/miniconda3/lib/python3.9/site-packages (from jupyterlab-server<3,>=2.19.0->jupyterlab>=3) (2.31.0)\n",
      "Requirement already satisfied: appnope in /opt/miniconda3/lib/python3.9/site-packages (from ipykernel->jupyterlab>=3) (0.1.4)\n",
      "Requirement already satisfied: comm>=0.1.1 in /opt/miniconda3/lib/python3.9/site-packages (from ipykernel->jupyterlab>=3) (0.2.1)\n",
      "Requirement already satisfied: debugpy>=1.6.5 in /opt/miniconda3/lib/python3.9/site-packages (from ipykernel->jupyterlab>=3) (1.8.1)\n",
      "Requirement already satisfied: ipython>=7.23.1 in /opt/miniconda3/lib/python3.9/site-packages (from ipykernel->jupyterlab>=3) (8.12.0)\n",
      "Requirement already satisfied: matplotlib-inline>=0.1 in /opt/miniconda3/lib/python3.9/site-packages (from ipykernel->jupyterlab>=3) (0.1.6)\n",
      "Requirement already satisfied: nest-asyncio in /opt/miniconda3/lib/python3.9/site-packages (from ipykernel->jupyterlab>=3) (1.6.0)\n",
      "Requirement already satisfied: psutil in /opt/miniconda3/lib/python3.9/site-packages (from ipykernel->jupyterlab>=3) (5.9.8)\n",
      "Requirement already satisfied: exceptiongroup>=1.0.2 in /opt/miniconda3/lib/python3.9/site-packages (from anyio->httpx>=0.25.0->jupyterlab>=3) (1.2.0)\n",
      "Requirement already satisfied: backcall in /opt/miniconda3/lib/python3.9/site-packages (from ipython>=7.23.1->ipykernel->jupyterlab>=3) (0.2.0)\n",
      "Requirement already satisfied: decorator in /opt/miniconda3/lib/python3.9/site-packages (from ipython>=7.23.1->ipykernel->jupyterlab>=3) (5.1.1)\n",
      "Requirement already satisfied: jedi>=0.16 in /opt/miniconda3/lib/python3.9/site-packages (from ipython>=7.23.1->ipykernel->jupyterlab>=3) (0.19.1)\n",
      "Requirement already satisfied: pickleshare in /opt/miniconda3/lib/python3.9/site-packages (from ipython>=7.23.1->ipykernel->jupyterlab>=3) (0.7.5)\n",
      "Requirement already satisfied: prompt-toolkit!=3.0.37,<3.1.0,>=3.0.30 in /opt/miniconda3/lib/python3.9/site-packages (from ipython>=7.23.1->ipykernel->jupyterlab>=3) (3.0.42)\n",
      "Requirement already satisfied: pygments>=2.4.0 in /opt/miniconda3/lib/python3.9/site-packages (from ipython>=7.23.1->ipykernel->jupyterlab>=3) (2.17.2)\n",
      "Requirement already satisfied: stack-data in /opt/miniconda3/lib/python3.9/site-packages (from ipython>=7.23.1->ipykernel->jupyterlab>=3) (0.6.2)\n",
      "Requirement already satisfied: pexpect>4.3 in /opt/miniconda3/lib/python3.9/site-packages (from ipython>=7.23.1->ipykernel->jupyterlab>=3) (4.9.0)\n",
      "Requirement already satisfied: attrs>=22.2.0 in /opt/miniconda3/lib/python3.9/site-packages (from jsonschema>=4.18.0->jupyterlab-server<3,>=2.19.0->jupyterlab>=3) (23.2.0)\n",
      "Requirement already satisfied: jsonschema-specifications>=2023.03.6 in /opt/miniconda3/lib/python3.9/site-packages (from jsonschema>=4.18.0->jupyterlab-server<3,>=2.19.0->jupyterlab>=3) (2023.12.1)\n",
      "Requirement already satisfied: referencing>=0.28.4 in /opt/miniconda3/lib/python3.9/site-packages (from jsonschema>=4.18.0->jupyterlab-server<3,>=2.19.0->jupyterlab>=3) (0.33.0)\n",
      "Requirement already satisfied: rpds-py>=0.7.1 in /opt/miniconda3/lib/python3.9/site-packages (from jsonschema>=4.18.0->jupyterlab-server<3,>=2.19.0->jupyterlab>=3) (0.18.0)\n",
      "Requirement already satisfied: python-dateutil>=2.8.2 in /opt/miniconda3/lib/python3.9/site-packages (from jupyter-client>=7.4.4->jupyter-server<3,>=2.4.0->jupyterlab>=3) (2.8.2)\n",
      "Requirement already satisfied: python-json-logger>=2.0.4 in /opt/miniconda3/lib/python3.9/site-packages (from jupyter-events>=0.9.0->jupyter-server<3,>=2.4.0->jupyterlab>=3) (2.0.7)\n",
      "Requirement already satisfied: pyyaml>=5.3 in /opt/miniconda3/lib/python3.9/site-packages (from jupyter-events>=0.9.0->jupyter-server<3,>=2.4.0->jupyterlab>=3) (6.0.1)\n",
      "Requirement already satisfied: rfc3339-validator in /opt/miniconda3/lib/python3.9/site-packages (from jupyter-events>=0.9.0->jupyter-server<3,>=2.4.0->jupyterlab>=3) (0.1.4)\n",
      "Requirement already satisfied: rfc3986-validator>=0.1.1 in /opt/miniconda3/lib/python3.9/site-packages (from jupyter-events>=0.9.0->jupyter-server<3,>=2.4.0->jupyterlab>=3) (0.1.1)\n",
      "Requirement already satisfied: beautifulsoup4 in /opt/miniconda3/lib/python3.9/site-packages (from nbconvert>=6.4.4->jupyter-server<3,>=2.4.0->jupyterlab>=3) (4.12.3)\n",
      "Requirement already satisfied: bleach!=5.0.0 in /opt/miniconda3/lib/python3.9/site-packages (from nbconvert>=6.4.4->jupyter-server<3,>=2.4.0->jupyterlab>=3) (6.1.0)\n",
      "Requirement already satisfied: defusedxml in /opt/miniconda3/lib/python3.9/site-packages (from nbconvert>=6.4.4->jupyter-server<3,>=2.4.0->jupyterlab>=3) (0.7.1)\n",
      "Requirement already satisfied: jupyterlab-pygments in /opt/miniconda3/lib/python3.9/site-packages (from nbconvert>=6.4.4->jupyter-server<3,>=2.4.0->jupyterlab>=3) (0.3.0)\n",
      "Requirement already satisfied: mistune<4,>=2.0.3 in /opt/miniconda3/lib/python3.9/site-packages (from nbconvert>=6.4.4->jupyter-server<3,>=2.4.0->jupyterlab>=3) (3.0.2)\n",
      "Requirement already satisfied: nbclient>=0.5.0 in /opt/miniconda3/lib/python3.9/site-packages (from nbconvert>=6.4.4->jupyter-server<3,>=2.4.0->jupyterlab>=3) (0.8.0)\n",
      "Requirement already satisfied: pandocfilters>=1.4.1 in /opt/miniconda3/lib/python3.9/site-packages (from nbconvert>=6.4.4->jupyter-server<3,>=2.4.0->jupyterlab>=3) (1.5.0)\n",
      "Requirement already satisfied: tinycss2 in /opt/miniconda3/lib/python3.9/site-packages (from nbconvert>=6.4.4->jupyter-server<3,>=2.4.0->jupyterlab>=3) (1.2.1)\n",
      "Requirement already satisfied: fastjsonschema in /opt/miniconda3/lib/python3.9/site-packages (from nbformat>=5.3.0->jupyter-server<3,>=2.4.0->jupyterlab>=3) (2.19.1)\n",
      "Requirement already satisfied: charset-normalizer<4,>=2 in /opt/miniconda3/lib/python3.9/site-packages (from requests>=2.31->jupyterlab-server<3,>=2.19.0->jupyterlab>=3) (3.3.2)\n",
      "Requirement already satisfied: urllib3<3,>=1.21.1 in /opt/miniconda3/lib/python3.9/site-packages (from requests>=2.31->jupyterlab-server<3,>=2.19.0->jupyterlab>=3) (2.2.1)\n",
      "Requirement already satisfied: ptyprocess in /opt/miniconda3/lib/python3.9/site-packages (from terminado>=0.8.3->jupyter-server<3,>=2.4.0->jupyterlab>=3) (0.7.0)\n",
      "Requirement already satisfied: argon2-cffi-bindings in /opt/miniconda3/lib/python3.9/site-packages (from argon2-cffi->jupyter-server<3,>=2.4.0->jupyterlab>=3) (21.2.0)\n",
      "Requirement already satisfied: six>=1.9.0 in /opt/miniconda3/lib/python3.9/site-packages (from bleach!=5.0.0->nbconvert>=6.4.4->jupyter-server<3,>=2.4.0->jupyterlab>=3) (1.16.0)\n",
      "Requirement already satisfied: webencodings in /opt/miniconda3/lib/python3.9/site-packages (from bleach!=5.0.0->nbconvert>=6.4.4->jupyter-server<3,>=2.4.0->jupyterlab>=3) (0.5.1)\n",
      "Requirement already satisfied: parso<0.9.0,>=0.8.3 in /opt/miniconda3/lib/python3.9/site-packages (from jedi>=0.16->ipython>=7.23.1->ipykernel->jupyterlab>=3) (0.8.3)\n",
      "Requirement already satisfied: fqdn in /opt/miniconda3/lib/python3.9/site-packages (from jsonschema[format-nongpl]>=4.18.0->jupyter-events>=0.9.0->jupyter-server<3,>=2.4.0->jupyterlab>=3) (1.5.1)\n",
      "Requirement already satisfied: isoduration in /opt/miniconda3/lib/python3.9/site-packages (from jsonschema[format-nongpl]>=4.18.0->jupyter-events>=0.9.0->jupyter-server<3,>=2.4.0->jupyterlab>=3) (20.11.0)\n",
      "Requirement already satisfied: jsonpointer>1.13 in /opt/miniconda3/lib/python3.9/site-packages (from jsonschema[format-nongpl]>=4.18.0->jupyter-events>=0.9.0->jupyter-server<3,>=2.4.0->jupyterlab>=3) (2.4)\n",
      "Requirement already satisfied: uri-template in /opt/miniconda3/lib/python3.9/site-packages (from jsonschema[format-nongpl]>=4.18.0->jupyter-events>=0.9.0->jupyter-server<3,>=2.4.0->jupyterlab>=3) (1.3.0)\n",
      "Requirement already satisfied: webcolors>=1.11 in /opt/miniconda3/lib/python3.9/site-packages (from jsonschema[format-nongpl]>=4.18.0->jupyter-events>=0.9.0->jupyter-server<3,>=2.4.0->jupyterlab>=3) (1.13)\n",
      "Requirement already satisfied: wcwidth in /opt/miniconda3/lib/python3.9/site-packages (from prompt-toolkit!=3.0.37,<3.1.0,>=3.0.30->ipython>=7.23.1->ipykernel->jupyterlab>=3) (0.2.13)\n",
      "Requirement already satisfied: cffi>=1.0.1 in /opt/miniconda3/lib/python3.9/site-packages (from argon2-cffi-bindings->argon2-cffi->jupyter-server<3,>=2.4.0->jupyterlab>=3) (1.16.0)\n",
      "Requirement already satisfied: soupsieve>1.2 in /opt/miniconda3/lib/python3.9/site-packages (from beautifulsoup4->nbconvert>=6.4.4->jupyter-server<3,>=2.4.0->jupyterlab>=3) (2.5)\n",
      "Requirement already satisfied: executing>=1.2.0 in /opt/miniconda3/lib/python3.9/site-packages (from stack-data->ipython>=7.23.1->ipykernel->jupyterlab>=3) (2.0.1)\n",
      "Requirement already satisfied: asttokens>=2.1.0 in /opt/miniconda3/lib/python3.9/site-packages (from stack-data->ipython>=7.23.1->ipykernel->jupyterlab>=3) (2.4.1)\n",
      "Requirement already satisfied: pure-eval in /opt/miniconda3/lib/python3.9/site-packages (from stack-data->ipython>=7.23.1->ipykernel->jupyterlab>=3) (0.2.2)\n",
      "Requirement already satisfied: pycparser in /opt/miniconda3/lib/python3.9/site-packages (from cffi>=1.0.1->argon2-cffi-bindings->argon2-cffi->jupyter-server<3,>=2.4.0->jupyterlab>=3) (2.21)\n",
      "Requirement already satisfied: arrow>=0.15.0 in /opt/miniconda3/lib/python3.9/site-packages (from isoduration->jsonschema[format-nongpl]>=4.18.0->jupyter-events>=0.9.0->jupyter-server<3,>=2.4.0->jupyterlab>=3) (1.3.0)\n",
      "Requirement already satisfied: types-python-dateutil>=2.8.10 in /opt/miniconda3/lib/python3.9/site-packages (from arrow>=0.15.0->isoduration->jsonschema[format-nongpl]>=4.18.0->jupyter-events>=0.9.0->jupyter-server<3,>=2.4.0->jupyterlab>=3) (2.8.19.20240106)\n",
      "Note: you may need to restart the kernel to use updated packages.\n"
     ]
    }
   ],
   "source": [
    "pip install \"jupyterlab>=3\""
   ]
  },
  {
   "cell_type": "code",
   "execution_count": 5,
   "id": "14b51eba-7db4-41ef-986d-3ad08bd37adb",
   "metadata": {},
   "outputs": [],
   "source": [
    "import plotly.express as px\n",
    "fig = px.bar(x=[\"a\", \"b\", \"c\"], y=[1, 3, 2])\n",
    "fig.write_html('first_figure.html', auto_open=True)"
   ]
  },
  {
   "cell_type": "code",
   "execution_count": 37,
   "id": "8da12775-a3dd-4ff6-b682-abcd633b6e04",
   "metadata": {},
   "outputs": [],
   "source": [
    "def rank_diff(rank1, rank2):\n",
    "        rank_order = [\"U\",\"K\",\"D\",\"P\",\"C\",\"O\",\"F\",\"G\",\"S\"]\n",
    "        if rank1 == rank2:\n",
    "            return 0\n",
    "\n",
    "        prefix1 = rank_order.index(rank1[0])\n",
    "        prefix2 = rank_order.index(rank2[0])\n",
    "        assert(prefix2 - prefix1 <= 1)\n",
    "        if prefix2 < prefix1:\n",
    "            return prefix2 - prefix1\n",
    "\n",
    "        suffix1, suffix2 = 0,0\n",
    "        if len(rank1) > 1:\n",
    "            suffix1 = int(rank1[1:])\n",
    "        if len(rank2) > 1:\n",
    "            suffix2 = int(rank2[1:])\n",
    "\n",
    "        print(prefix1, prefix2, suffix1, suffix2)\n",
    "\n",
    "        if prefix1 == prefix2:\n",
    "            assert(suffix2 - suffix1 <= 1)\n",
    "            return suffix2 - suffix1\n",
    "        elif prefix2 - prefix1 == 1:\n",
    "            assert(suffix2 == 0)\n",
    "            return 1\n",
    "        else:\n",
    "            return suffix2 - suffix1"
   ]
  },
  {
   "cell_type": "code",
   "execution_count": 43,
   "id": "7a7907f5-6159-4d1a-92e2-254c4109c330",
   "metadata": {},
   "outputs": [
    {
     "ename": "AssertionError",
     "evalue": "",
     "output_type": "error",
     "traceback": [
      "\u001b[0;31m---------------------------------------------------------------------------\u001b[0m",
      "\u001b[0;31mAssertionError\u001b[0m                            Traceback (most recent call last)",
      "Cell \u001b[0;32mIn[43], line 1\u001b[0m\n\u001b[0;32m----> 1\u001b[0m \u001b[43mrank_diff\u001b[49m\u001b[43m(\u001b[49m\u001b[38;5;124;43m\"\u001b[39;49m\u001b[38;5;124;43mD1\u001b[39;49m\u001b[38;5;124;43m\"\u001b[39;49m\u001b[43m,\u001b[49m\u001b[38;5;124;43m\"\u001b[39;49m\u001b[38;5;124;43mS1\u001b[39;49m\u001b[38;5;124;43m\"\u001b[39;49m\u001b[43m)\u001b[49m\n",
      "Cell \u001b[0;32mIn[37], line 8\u001b[0m, in \u001b[0;36mrank_diff\u001b[0;34m(rank1, rank2)\u001b[0m\n\u001b[1;32m      6\u001b[0m prefix1 \u001b[38;5;241m=\u001b[39m rank_order\u001b[38;5;241m.\u001b[39mindex(rank1[\u001b[38;5;241m0\u001b[39m])\n\u001b[1;32m      7\u001b[0m prefix2 \u001b[38;5;241m=\u001b[39m rank_order\u001b[38;5;241m.\u001b[39mindex(rank2[\u001b[38;5;241m0\u001b[39m])\n\u001b[0;32m----> 8\u001b[0m \u001b[38;5;28;01massert\u001b[39;00m(prefix2 \u001b[38;5;241m-\u001b[39m prefix1 \u001b[38;5;241m<\u001b[39m\u001b[38;5;241m=\u001b[39m \u001b[38;5;241m1\u001b[39m)\n\u001b[1;32m      9\u001b[0m \u001b[38;5;28;01mif\u001b[39;00m prefix2 \u001b[38;5;241m<\u001b[39m prefix1:\n\u001b[1;32m     10\u001b[0m     \u001b[38;5;28;01mreturn\u001b[39;00m prefix2 \u001b[38;5;241m-\u001b[39m prefix1\n",
      "\u001b[0;31mAssertionError\u001b[0m: "
     ]
    }
   ],
   "source": [
    "rank_diff(\"D1\",\"S1\")"
   ]
  },
  {
   "cell_type": "code",
   "execution_count": 4,
   "id": "29625ce7-f2df-4ecb-b485-5623a2919645",
   "metadata": {},
   "outputs": [],
   "source": [
    "import os\n",
    "import glob\n",
    "import pandas as pd\n",
    "\n",
    "# Directory containing the text files\n",
    "directory = \"data/\"\n",
    "\n",
    "def load_virus_df(file_name, ranks=[\"F\"], unclassified_percentages = [], restrict_to_virus = True):\n",
    "    df = pd.read_csv(file_name, sep=\"\\t\", skipinitialspace = True)\n",
    "\n",
    "    # identify the percentage unclassified\n",
    "    unclassified = df.iloc[0][\"% of Seqs\"]\n",
    "    unclassified_percentages.append(unclassified)\n",
    "\n",
    "    # restrict to viruses only\n",
    "    if restrict_to_virus:\n",
    "        virus_index = df.index[df[\"Taxonomy ID\"] == 10239][0]\n",
    "        percent_virus = df.iloc[virus_index][\"% of Seqs\"]\n",
    "        df.drop(range(virus_index), inplace=True)\n",
    "        \n",
    "        domain_indices = df.index[df[\"Rank\"] == \"D\"]\n",
    "        if len(domain_indices) > 1:\n",
    "            print(file_name, domain_indices)\n",
    "            df.drop(range(domain_indices[1],len(df.index)), inplace=True)\n",
    "        \n",
    "        df[\"percentage_of_classified_virome\"] = df[\"% of Seqs\"]/percent_virus\n",
    "    else:\n",
    "        df[\"percentage_of_classified\"] = df[\"% of Seqs\"]/df.iloc[1][\"% of Seqs\"]\n",
    "\n",
    "\n",
    "    # restrict to families\n",
    "    df = df[df[\"Rank\"].isin(ranks)]\n",
    "    return df\n",
    "\n",
    "def add_to_master_df(df, name, master, column):\n",
    "    df = df.set_index(\"Scientific Name\")\n",
    "    df[name] = df[column]\n",
    "    sdf = df[[name]]\n",
    "    if master.empty:\n",
    "        return sdf\n",
    "    else:\n",
    "        master = master.join(sdf, how='outer')\n",
    "        master.fillna(0, inplace=True)\n",
    "        return master\n",
    "\n",
    "def get_data_for_niche(directory, restrict_to_virus=True):\n",
    "    count_master = pd.DataFrame()\n",
    "    percent_master = pd.DataFrame()\n",
    "    unclassified_percentages = []\n",
    "    \n",
    "    # Loop over each subdirectory in the main directory\n",
    "    files = glob.glob(\"%s/*kraken_report.txt\" %(directory))\n",
    "    for file_name in files:\n",
    "        print(file_name)\n",
    "        df = load_virus_df(file_name, ranks=[\"F\"], unclassified_percentages=unclassified_percentages, restrict_to_virus=restrict_to_virus)\n",
    "        name = file_name.split(\"/\")[-1].split(\".\")[0]\n",
    "        print(name)\n",
    "        \n",
    "        count_master = add_to_master_df(df, name, count_master, \"Clades\")\n",
    "        if restrict_to_virus:\n",
    "            percent_master = add_to_master_df(df, name, percent_master, \"percentage_of_classified_virome\")\n",
    "        else:\n",
    "            percent_master = add_to_master_df(df, name, percent_master, \"percentage_of_classified\")\n",
    "    \n",
    "    # Save the DataFrame as a text file\n",
    "    count_master.astype(int, errors = \"ignore\")\n",
    "    count_master.to_csv(directory + \"/merged_counts.txt\" , sep='\\t', index=False) \n",
    "    percent_master.to_csv(directory + \"/merged_percents.txt\" , sep='\\t', index=False)\n",
    "    return unclassified_percentages, count_master, percent_master"
   ]
  },
  {
   "cell_type": "code",
   "execution_count": 5,
   "id": "509b4619-7c1b-4fa7-b863-292dc76dfb4f",
   "metadata": {},
   "outputs": [
    {
     "name": "stdout",
     "output_type": "stream",
     "text": [
      "data/SRR2188500.PlusPF.kraken_report.txt\n",
      "SRR2188500\n",
      "data/ERR1711596.PlusPF.kraken_report.txt\n",
      "ERR1711596\n",
      "data/SRR9966458.PlusPF.kraken_report.txt\n",
      "SRR9966458\n",
      "data/SRR9966454.PlusPF.kraken_report.txt\n",
      "SRR9966454\n",
      "data/SRR2187450.PlusPF.kraken_report.txt\n",
      "SRR2187450\n",
      "data/SRR2188208.PlusPF.kraken_report.txt\n",
      "SRR2188208\n",
      "data/SRR2188413.PlusPF.kraken_report.txt\n",
      "SRR2188413\n",
      "data/SRR2187401.PlusPF.kraken_report.txt\n",
      "SRR2187401\n",
      "data/ERR1711607.PlusPF.kraken_report.txt\n",
      "ERR1711607\n",
      "data/ERR1711630.PlusPF.kraken_report.txt\n"
     ]
    },
    {
     "ename": "IndexError",
     "evalue": "index 0 is out of bounds for axis 0 with size 0",
     "output_type": "error",
     "traceback": [
      "\u001b[0;31m---------------------------------------------------------------------------\u001b[0m",
      "\u001b[0;31mIndexError\u001b[0m                                Traceback (most recent call last)",
      "Cell \u001b[0;32mIn[5], line 1\u001b[0m\n\u001b[0;32m----> 1\u001b[0m unclassified, count, percent \u001b[38;5;241m=\u001b[39m \u001b[43mget_data_for_niche\u001b[49m\u001b[43m(\u001b[49m\u001b[43mdirectory\u001b[49m\u001b[43m,\u001b[49m\u001b[43m \u001b[49m\u001b[43mrestrict_to_virus\u001b[49m\u001b[38;5;241;43m=\u001b[39;49m\u001b[38;5;28;43;01mTrue\u001b[39;49;00m\u001b[43m)\u001b[49m\n",
      "Cell \u001b[0;32mIn[4], line 55\u001b[0m, in \u001b[0;36mget_data_for_niche\u001b[0;34m(directory, restrict_to_virus)\u001b[0m\n\u001b[1;32m     53\u001b[0m \u001b[38;5;28;01mfor\u001b[39;00m file_name \u001b[38;5;129;01min\u001b[39;00m files:\n\u001b[1;32m     54\u001b[0m     \u001b[38;5;28mprint\u001b[39m(file_name)\n\u001b[0;32m---> 55\u001b[0m     df \u001b[38;5;241m=\u001b[39m \u001b[43mload_virus_df\u001b[49m\u001b[43m(\u001b[49m\u001b[43mfile_name\u001b[49m\u001b[43m,\u001b[49m\u001b[43m \u001b[49m\u001b[43mranks\u001b[49m\u001b[38;5;241;43m=\u001b[39;49m\u001b[43m[\u001b[49m\u001b[38;5;124;43m\"\u001b[39;49m\u001b[38;5;124;43mF\u001b[39;49m\u001b[38;5;124;43m\"\u001b[39;49m\u001b[43m]\u001b[49m\u001b[43m,\u001b[49m\u001b[43m \u001b[49m\u001b[43munclassified_percentages\u001b[49m\u001b[38;5;241;43m=\u001b[39;49m\u001b[43munclassified_percentages\u001b[49m\u001b[43m,\u001b[49m\u001b[43m \u001b[49m\u001b[43mrestrict_to_virus\u001b[49m\u001b[38;5;241;43m=\u001b[39;49m\u001b[43mrestrict_to_virus\u001b[49m\u001b[43m)\u001b[49m\n\u001b[1;32m     56\u001b[0m     name \u001b[38;5;241m=\u001b[39m file_name\u001b[38;5;241m.\u001b[39msplit(\u001b[38;5;124m\"\u001b[39m\u001b[38;5;124m/\u001b[39m\u001b[38;5;124m\"\u001b[39m)[\u001b[38;5;241m-\u001b[39m\u001b[38;5;241m1\u001b[39m]\u001b[38;5;241m.\u001b[39msplit(\u001b[38;5;124m\"\u001b[39m\u001b[38;5;124m.\u001b[39m\u001b[38;5;124m\"\u001b[39m)[\u001b[38;5;241m0\u001b[39m]\n\u001b[1;32m     57\u001b[0m     \u001b[38;5;28mprint\u001b[39m(name)\n",
      "Cell \u001b[0;32mIn[4], line 17\u001b[0m, in \u001b[0;36mload_virus_df\u001b[0;34m(file_name, ranks, unclassified_percentages, restrict_to_virus)\u001b[0m\n\u001b[1;32m     15\u001b[0m \u001b[38;5;66;03m# restrict to viruses only\u001b[39;00m\n\u001b[1;32m     16\u001b[0m \u001b[38;5;28;01mif\u001b[39;00m restrict_to_virus:\n\u001b[0;32m---> 17\u001b[0m     virus_index \u001b[38;5;241m=\u001b[39m \u001b[43mdf\u001b[49m\u001b[38;5;241;43m.\u001b[39;49m\u001b[43mindex\u001b[49m\u001b[43m[\u001b[49m\u001b[43mdf\u001b[49m\u001b[43m[\u001b[49m\u001b[38;5;124;43m\"\u001b[39;49m\u001b[38;5;124;43mTaxonomy ID\u001b[39;49m\u001b[38;5;124;43m\"\u001b[39;49m\u001b[43m]\u001b[49m\u001b[43m \u001b[49m\u001b[38;5;241;43m==\u001b[39;49m\u001b[43m \u001b[49m\u001b[38;5;241;43m10239\u001b[39;49m\u001b[43m]\u001b[49m\u001b[43m[\u001b[49m\u001b[38;5;241;43m0\u001b[39;49m\u001b[43m]\u001b[49m\n\u001b[1;32m     18\u001b[0m     percent_virus \u001b[38;5;241m=\u001b[39m df\u001b[38;5;241m.\u001b[39miloc[virus_index][\u001b[38;5;124m\"\u001b[39m\u001b[38;5;132;01m% o\u001b[39;00m\u001b[38;5;124mf Seqs\u001b[39m\u001b[38;5;124m\"\u001b[39m]\n\u001b[1;32m     19\u001b[0m     df\u001b[38;5;241m.\u001b[39mdrop(\u001b[38;5;28mrange\u001b[39m(virus_index), inplace\u001b[38;5;241m=\u001b[39m\u001b[38;5;28;01mTrue\u001b[39;00m)\n",
      "File \u001b[0;32m/opt/miniconda3/lib/python3.9/site-packages/pandas/core/indexes/base.py:5389\u001b[0m, in \u001b[0;36mIndex.__getitem__\u001b[0;34m(self, key)\u001b[0m\n\u001b[1;32m   5386\u001b[0m \u001b[38;5;28;01mif\u001b[39;00m is_integer(key) \u001b[38;5;129;01mor\u001b[39;00m is_float(key):\n\u001b[1;32m   5387\u001b[0m     \u001b[38;5;66;03m# GH#44051 exclude bool, which would return a 2d ndarray\u001b[39;00m\n\u001b[1;32m   5388\u001b[0m     key \u001b[38;5;241m=\u001b[39m com\u001b[38;5;241m.\u001b[39mcast_scalar_indexer(key)\n\u001b[0;32m-> 5389\u001b[0m     \u001b[38;5;28;01mreturn\u001b[39;00m \u001b[43mgetitem\u001b[49m\u001b[43m(\u001b[49m\u001b[43mkey\u001b[49m\u001b[43m)\u001b[49m\n\u001b[1;32m   5391\u001b[0m \u001b[38;5;28;01mif\u001b[39;00m \u001b[38;5;28misinstance\u001b[39m(key, \u001b[38;5;28mslice\u001b[39m):\n\u001b[1;32m   5392\u001b[0m     \u001b[38;5;66;03m# This case is separated from the conditional above to avoid\u001b[39;00m\n\u001b[1;32m   5393\u001b[0m     \u001b[38;5;66;03m# pessimization com.is_bool_indexer and ndim checks.\u001b[39;00m\n\u001b[1;32m   5394\u001b[0m     \u001b[38;5;28;01mreturn\u001b[39;00m \u001b[38;5;28mself\u001b[39m\u001b[38;5;241m.\u001b[39m_getitem_slice(key)\n",
      "\u001b[0;31mIndexError\u001b[0m: index 0 is out of bounds for axis 0 with size 0"
     ]
    }
   ],
   "source": [
    "unclassified, count, percent = get_data_for_niche(directory, restrict_to_virus=True)"
   ]
  },
  {
   "cell_type": "code",
   "execution_count": 51,
   "id": "f8911328-b8f8-4c99-a1da-8f47cda52ce1",
   "metadata": {},
   "outputs": [],
   "source": [
    "merged_counts = count_lung.join(count_gut, how='outer')\n",
    "merged_counts.fillna(0, inplace=True)\n",
    "merged_counts.to_csv(directory + \"/merged_counts.txt\", sep='\\t', index=False) "
   ]
  },
  {
   "cell_type": "code",
   "execution_count": 52,
   "id": "0a2f2076-a522-4cf7-a316-c3fa1dc6991f",
   "metadata": {},
   "outputs": [],
   "source": [
    "count_lung_norm = count_lung.apply(lambda x: x/x.sum(), axis=0)\n",
    "count_gut_norm = count_gut.apply(lambda x: x/x.sum(), axis=0)\n",
    "count_lung_norm.to_csv(directory + \"/count_lung_norm.txt\", sep='\\t', index=False) \n",
    "count_gut_norm.to_csv(directory + \"/count_gut_norm.txt\", sep='\\t', index=False) "
   ]
  },
  {
   "cell_type": "code",
   "execution_count": 53,
   "id": "14070fd9-a88a-443c-bc8e-3e4e4f3fb6d6",
   "metadata": {},
   "outputs": [],
   "source": [
    "count_copd_norm = count_lung_norm[copd]\n",
    "count_healthy_norm = count_lung_norm[[l for l in lung if l not in copd]]\n",
    "count_copd_norm.to_csv(directory + \"/count_copd_norm.txt\", sep='\\t', index=False) \n",
    "count_healthy_norm.to_csv(directory + \"/count_healthy_norm.txt\", sep='\\t', index=False) "
   ]
  },
  {
   "cell_type": "code",
   "execution_count": 54,
   "id": "3a9ce6cf-8aed-41af-9686-956af6a3f4d3",
   "metadata": {},
   "outputs": [],
   "source": [
    "t_lung_norm = count_lung_norm.transpose()\n",
    "t_lung_norm[\"Status\"] = \"Healthy\"\n",
    "t_lung_norm.loc[copd, \"Status\"] = \"COPD\""
   ]
  },
  {
   "cell_type": "markdown",
   "id": "eb41fec5-1a3d-4db3-9227-555015f25e78",
   "metadata": {},
   "source": [
    "Note guide on using R in ipython https://stackoverflow.com/questions/39008069/r-and-python-in-one-jupyter-notebook"
   ]
  },
  {
   "cell_type": "code",
   "execution_count": 137,
   "id": "0357540a-74ab-41d4-9d5c-bc8218c6cdc6",
   "metadata": {},
   "outputs": [
    {
     "name": "stdout",
     "output_type": "stream",
     "text": [
      "Collecting rpy2\n",
      "  Downloading rpy2-3.5.15-cp39-cp39-macosx_11_0_x86_64.whl.metadata (4.5 kB)\n",
      "Requirement already satisfied: cffi>=1.10.0 in /opt/miniconda3/lib/python3.9/site-packages (from rpy2) (1.16.0)\n",
      "Requirement already satisfied: jinja2 in /opt/miniconda3/lib/python3.9/site-packages (from rpy2) (3.1.3)\n",
      "Collecting tzlocal (from rpy2)\n",
      "  Downloading tzlocal-5.2-py3-none-any.whl.metadata (7.8 kB)\n",
      "Requirement already satisfied: pycparser in /opt/miniconda3/lib/python3.9/site-packages (from cffi>=1.10.0->rpy2) (2.21)\n",
      "Requirement already satisfied: MarkupSafe>=2.0 in /opt/miniconda3/lib/python3.9/site-packages (from jinja2->rpy2) (2.1.3)\n",
      "Downloading rpy2-3.5.15-cp39-cp39-macosx_11_0_x86_64.whl (260 kB)\n",
      "\u001b[2K   \u001b[90m━━━━━━━━━━━━━━━━━━━━━━━━━━━━━━━━━━━━━━━━\u001b[0m \u001b[32m260.8/260.8 kB\u001b[0m \u001b[31m4.8 MB/s\u001b[0m eta \u001b[36m0:00:00\u001b[0m00:01\u001b[0m\n",
      "\u001b[?25hDownloading tzlocal-5.2-py3-none-any.whl (17 kB)\n",
      "Installing collected packages: tzlocal, rpy2\n",
      "Successfully installed rpy2-3.5.15 tzlocal-5.2\n"
     ]
    }
   ],
   "source": [
    "! pip install rpy2"
   ]
  },
  {
   "cell_type": "code",
   "execution_count": 2,
   "id": "450623b9-49df-44b6-aa7a-4f936922230d",
   "metadata": {},
   "outputs": [],
   "source": [
    "%load_ext rpy2.ipython"
   ]
  },
  {
   "cell_type": "code",
   "execution_count": 55,
   "id": "9a336419-8096-4c54-91e0-0f7e778e0723",
   "metadata": {},
   "outputs": [
    {
     "data": {
      "image/png": "[encoded data removed]",
      "text/plain": [
       "<IPython.core.display.Image object>"
      ]
     },
     "metadata": {},
     "output_type": "display_data"
    }
   ],
   "source": [
    "%%R -i t_lung_norm -w 5 -h 5 --units in -r 200\n",
    "# import df from global environment\n",
    "# make default figure size 5 by 5 inches with 200 dpi resolution\n",
    "\n",
    "#install.packages(c(\"vegan\", \"tidyr\", \"ecodist\", \"ape\",\"ggplot2\"),repos='http://cran.us.r-project.org', quiet=TRUE) # rest omitted\n",
    "\n",
    "library(\"vegan\")\n",
    "library(\"tidyr\")\n",
    "library(\"ecodist\")\n",
    "library(ape)\n",
    "library(ggplot2)\n",
    "\n",
    "lung <- t_lung_norm[1:(length(t_lung_norm)-5)]\n",
    "\n",
    "dist <- vegan::vegdist(lung, method = \"bray\")\n",
    "pcoa <- ecodist::pco(dist)\n",
    "\n",
    "pcoa_df <- data.frame(pcoa1 = pcoa$vectors[,1], \n",
    "                                  pcoa2 = pcoa$vectors[,2])\n",
    "\n",
    "# Add the status column from your original data frame\n",
    "pcoa_df$Status <- t_lung_norm$Status\n",
    "\n",
    "# Create a PCoA plot with ggplot2\n",
    "pcoa_plot <- ggplot(pcoa_df, aes(x = pcoa1, y = pcoa2, color = Status)) +\n",
    "  geom_point() +\n",
    "  scale_color_manual(values = c(\"COPD\" = \"red\", \"Healthy\" = \"green\")) +  # Customize colors\n",
    "  labs(color = \"Status\") +  # Label for the legend\n",
    "  ggtitle(\"Lung virome\") +  # Title of the plot\n",
    "  theme_minimal()  # Optional: Adjust plot theme\n",
    "\n",
    "# Show the plot\n",
    "print(pcoa_plot)"
   ]
  },
  {
   "cell_type": "code",
   "execution_count": 56,
   "id": "7a1bf3f6-d0e6-493f-a161-6c420b6833bd",
   "metadata": {},
   "outputs": [],
   "source": [
    "merged_counts_norm = merged_counts.apply(lambda x: x/x.sum(), axis=0)\n",
    "t_merged_counts_norm = merged_counts_norm.transpose()\n",
    "t_merged_counts_norm[\"Niche\"] = \"Gut\"\n",
    "t_merged_counts_norm.loc[lung, \"Niche\"] = \"Lung Healthy\"\n",
    "t_merged_counts_norm.loc[copd, \"Niche\"] = \"Lung COPD\"\n",
    "t_merged_counts_norm.to_csv(directory + \"/transposed_norm_counts.txt\", sep='\\t', index=False) \n"
   ]
  },
  {
   "cell_type": "code",
   "execution_count": 57,
   "id": "f9c6fe4f-1e9c-4e69-a0f1-715b9502faa3",
   "metadata": {},
   "outputs": [
    {
     "data": {
      "image/png": "[encoded data removed]",
      "text/plain": [
       "<IPython.core.display.Image object>"
      ]
     },
     "metadata": {},
     "output_type": "display_data"
    }
   ],
   "source": [
    "%%R -i t_merged_counts_norm -w 5 -h 5 --units in -r 200\n",
    "\n",
    "df <- t_merged_counts_norm[1:(length(t_merged_counts_norm)-5)]\n",
    "\n",
    "dist <- vegan::vegdist(df, method = \"bray\")\n",
    "pcoa <- ecodist::pco(dist)\n",
    "\n",
    "pcoa_df <- data.frame(pcoa1 = pcoa$vectors[,1], \n",
    "                                  pcoa2 = pcoa$vectors[,2])\n",
    "\n",
    "# Add the status column from your original data frame\n",
    "pcoa_df$Niche <- t_merged_counts_norm$Niche\n",
    "\n",
    "# Create a PCoA plot with ggplot2\n",
    "pcoa_plot <- ggplot(pcoa_df, aes(x = pcoa1, y = pcoa2, color = Niche)) +\n",
    "  geom_point() +\n",
    "  scale_color_manual(values = c(\"Gut\" = \"red\", \"Lung Healthy\" = \"green\", \"Lung COPD\" = \"blue\")) +  # Customize colors\n",
    "  labs(color = \"Niche\") +  # Label for the legend\n",
    "  ggtitle(\"Virome by Host Niche\") +  # Title of the plot\n",
    "  theme_minimal()  # Optional: Adjust plot theme\n",
    "\n",
    "# Show the plot\n",
    "print(pcoa_plot)"
   ]
  },
  {
   "cell_type": "code",
   "execution_count": null,
   "id": "70b1bbe8-95eb-4639-bea4-3bc053a418c8",
   "metadata": {},
   "outputs": [],
   "source": []
  }
 ],
 "metadata": {
  "kernelspec": {
   "display_name": "Python 3 (ipykernel)",
   "language": "python",
   "name": "python3"
  },
  "language_info": {
   "codemirror_mode": {
    "name": "ipython",
    "version": 3
   },
   "file_extension": ".py",
   "mimetype": "text/x-python",
   "name": "python",
   "nbconvert_exporter": "python",
   "pygments_lexer": "ipython3",
   "version": "3.10.14"
  }
 },
 "nbformat": 4,
 "nbformat_minor": 5
}
